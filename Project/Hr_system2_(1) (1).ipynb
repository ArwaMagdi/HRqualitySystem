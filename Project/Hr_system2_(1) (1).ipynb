{
 "cells": [
  {
   "cell_type": "markdown",
   "id": "548af641",
   "metadata": {
    "id": "548af641"
   },
   "source": [
    "# 2.Promotions"
   ]
  },
  {
   "cell_type": "markdown",
   "id": "7aa579fe",
   "metadata": {
    "id": "7aa579fe"
   },
   "source": [
    "## 2.1 Importing Modules & Data"
   ]
  },
  {
   "cell_type": "code",
   "execution_count": 8,
   "id": "691e44e5",
   "metadata": {
    "id": "691e44e5"
   },
   "outputs": [
    {
     "ename": "FileNotFoundError",
     "evalue": "[Errno 2] No such file or directory: 'employee_promotion.csv'",
     "output_type": "error",
     "traceback": [
      "\u001b[1;31m---------------------------------------------------------------------------\u001b[0m",
      "\u001b[1;31mFileNotFoundError\u001b[0m                         Traceback (most recent call last)",
      "Input \u001b[1;32mIn [8]\u001b[0m, in \u001b[0;36m<cell line: 6>\u001b[1;34m()\u001b[0m\n\u001b[0;32m      4\u001b[0m \u001b[38;5;28;01mimport\u001b[39;00m \u001b[38;5;21;01mmatplotlib\u001b[39;00m\u001b[38;5;21;01m.\u001b[39;00m\u001b[38;5;21;01mpyplot\u001b[39;00m \u001b[38;5;28;01mas\u001b[39;00m \u001b[38;5;21;01mplt\u001b[39;00m\n\u001b[0;32m      5\u001b[0m \u001b[38;5;28;01mfrom\u001b[39;00m \u001b[38;5;21;01msklearn\u001b[39;00m\u001b[38;5;21;01m.\u001b[39;00m\u001b[38;5;21;01mpreprocessing\u001b[39;00m \u001b[38;5;28;01mimport\u001b[39;00m LabelEncoder\n\u001b[1;32m----> 6\u001b[0m df\u001b[38;5;241m=\u001b[39m\u001b[43mpd\u001b[49m\u001b[38;5;241;43m.\u001b[39;49m\u001b[43mread_csv\u001b[49m\u001b[43m(\u001b[49m\u001b[38;5;124;43m\"\u001b[39;49m\u001b[38;5;124;43memployee_promotion.csv\u001b[39;49m\u001b[38;5;124;43m\"\u001b[39;49m\u001b[43m)\u001b[49m\n",
      "File \u001b[1;32mD:\\Anaconda\\lib\\site-packages\\pandas\\util\\_decorators.py:311\u001b[0m, in \u001b[0;36mdeprecate_nonkeyword_arguments.<locals>.decorate.<locals>.wrapper\u001b[1;34m(*args, **kwargs)\u001b[0m\n\u001b[0;32m    305\u001b[0m \u001b[38;5;28;01mif\u001b[39;00m \u001b[38;5;28mlen\u001b[39m(args) \u001b[38;5;241m>\u001b[39m num_allow_args:\n\u001b[0;32m    306\u001b[0m     warnings\u001b[38;5;241m.\u001b[39mwarn(\n\u001b[0;32m    307\u001b[0m         msg\u001b[38;5;241m.\u001b[39mformat(arguments\u001b[38;5;241m=\u001b[39marguments),\n\u001b[0;32m    308\u001b[0m         \u001b[38;5;167;01mFutureWarning\u001b[39;00m,\n\u001b[0;32m    309\u001b[0m         stacklevel\u001b[38;5;241m=\u001b[39mstacklevel,\n\u001b[0;32m    310\u001b[0m     )\n\u001b[1;32m--> 311\u001b[0m \u001b[38;5;28;01mreturn\u001b[39;00m func(\u001b[38;5;241m*\u001b[39margs, \u001b[38;5;241m*\u001b[39m\u001b[38;5;241m*\u001b[39mkwargs)\n",
      "File \u001b[1;32mD:\\Anaconda\\lib\\site-packages\\pandas\\io\\parsers\\readers.py:680\u001b[0m, in \u001b[0;36mread_csv\u001b[1;34m(filepath_or_buffer, sep, delimiter, header, names, index_col, usecols, squeeze, prefix, mangle_dupe_cols, dtype, engine, converters, true_values, false_values, skipinitialspace, skiprows, skipfooter, nrows, na_values, keep_default_na, na_filter, verbose, skip_blank_lines, parse_dates, infer_datetime_format, keep_date_col, date_parser, dayfirst, cache_dates, iterator, chunksize, compression, thousands, decimal, lineterminator, quotechar, quoting, doublequote, escapechar, comment, encoding, encoding_errors, dialect, error_bad_lines, warn_bad_lines, on_bad_lines, delim_whitespace, low_memory, memory_map, float_precision, storage_options)\u001b[0m\n\u001b[0;32m    665\u001b[0m kwds_defaults \u001b[38;5;241m=\u001b[39m _refine_defaults_read(\n\u001b[0;32m    666\u001b[0m     dialect,\n\u001b[0;32m    667\u001b[0m     delimiter,\n\u001b[1;32m   (...)\u001b[0m\n\u001b[0;32m    676\u001b[0m     defaults\u001b[38;5;241m=\u001b[39m{\u001b[38;5;124m\"\u001b[39m\u001b[38;5;124mdelimiter\u001b[39m\u001b[38;5;124m\"\u001b[39m: \u001b[38;5;124m\"\u001b[39m\u001b[38;5;124m,\u001b[39m\u001b[38;5;124m\"\u001b[39m},\n\u001b[0;32m    677\u001b[0m )\n\u001b[0;32m    678\u001b[0m kwds\u001b[38;5;241m.\u001b[39mupdate(kwds_defaults)\n\u001b[1;32m--> 680\u001b[0m \u001b[38;5;28;01mreturn\u001b[39;00m \u001b[43m_read\u001b[49m\u001b[43m(\u001b[49m\u001b[43mfilepath_or_buffer\u001b[49m\u001b[43m,\u001b[49m\u001b[43m \u001b[49m\u001b[43mkwds\u001b[49m\u001b[43m)\u001b[49m\n",
      "File \u001b[1;32mD:\\Anaconda\\lib\\site-packages\\pandas\\io\\parsers\\readers.py:575\u001b[0m, in \u001b[0;36m_read\u001b[1;34m(filepath_or_buffer, kwds)\u001b[0m\n\u001b[0;32m    572\u001b[0m _validate_names(kwds\u001b[38;5;241m.\u001b[39mget(\u001b[38;5;124m\"\u001b[39m\u001b[38;5;124mnames\u001b[39m\u001b[38;5;124m\"\u001b[39m, \u001b[38;5;28;01mNone\u001b[39;00m))\n\u001b[0;32m    574\u001b[0m \u001b[38;5;66;03m# Create the parser.\u001b[39;00m\n\u001b[1;32m--> 575\u001b[0m parser \u001b[38;5;241m=\u001b[39m TextFileReader(filepath_or_buffer, \u001b[38;5;241m*\u001b[39m\u001b[38;5;241m*\u001b[39mkwds)\n\u001b[0;32m    577\u001b[0m \u001b[38;5;28;01mif\u001b[39;00m chunksize \u001b[38;5;129;01mor\u001b[39;00m iterator:\n\u001b[0;32m    578\u001b[0m     \u001b[38;5;28;01mreturn\u001b[39;00m parser\n",
      "File \u001b[1;32mD:\\Anaconda\\lib\\site-packages\\pandas\\io\\parsers\\readers.py:933\u001b[0m, in \u001b[0;36mTextFileReader.__init__\u001b[1;34m(self, f, engine, **kwds)\u001b[0m\n\u001b[0;32m    930\u001b[0m     \u001b[38;5;28mself\u001b[39m\u001b[38;5;241m.\u001b[39moptions[\u001b[38;5;124m\"\u001b[39m\u001b[38;5;124mhas_index_names\u001b[39m\u001b[38;5;124m\"\u001b[39m] \u001b[38;5;241m=\u001b[39m kwds[\u001b[38;5;124m\"\u001b[39m\u001b[38;5;124mhas_index_names\u001b[39m\u001b[38;5;124m\"\u001b[39m]\n\u001b[0;32m    932\u001b[0m \u001b[38;5;28mself\u001b[39m\u001b[38;5;241m.\u001b[39mhandles: IOHandles \u001b[38;5;241m|\u001b[39m \u001b[38;5;28;01mNone\u001b[39;00m \u001b[38;5;241m=\u001b[39m \u001b[38;5;28;01mNone\u001b[39;00m\n\u001b[1;32m--> 933\u001b[0m \u001b[38;5;28mself\u001b[39m\u001b[38;5;241m.\u001b[39m_engine \u001b[38;5;241m=\u001b[39m \u001b[38;5;28;43mself\u001b[39;49m\u001b[38;5;241;43m.\u001b[39;49m\u001b[43m_make_engine\u001b[49m\u001b[43m(\u001b[49m\u001b[43mf\u001b[49m\u001b[43m,\u001b[49m\u001b[43m \u001b[49m\u001b[38;5;28;43mself\u001b[39;49m\u001b[38;5;241;43m.\u001b[39;49m\u001b[43mengine\u001b[49m\u001b[43m)\u001b[49m\n",
      "File \u001b[1;32mD:\\Anaconda\\lib\\site-packages\\pandas\\io\\parsers\\readers.py:1217\u001b[0m, in \u001b[0;36mTextFileReader._make_engine\u001b[1;34m(self, f, engine)\u001b[0m\n\u001b[0;32m   1213\u001b[0m     mode \u001b[38;5;241m=\u001b[39m \u001b[38;5;124m\"\u001b[39m\u001b[38;5;124mrb\u001b[39m\u001b[38;5;124m\"\u001b[39m\n\u001b[0;32m   1214\u001b[0m \u001b[38;5;66;03m# error: No overload variant of \"get_handle\" matches argument types\u001b[39;00m\n\u001b[0;32m   1215\u001b[0m \u001b[38;5;66;03m# \"Union[str, PathLike[str], ReadCsvBuffer[bytes], ReadCsvBuffer[str]]\"\u001b[39;00m\n\u001b[0;32m   1216\u001b[0m \u001b[38;5;66;03m# , \"str\", \"bool\", \"Any\", \"Any\", \"Any\", \"Any\", \"Any\"\u001b[39;00m\n\u001b[1;32m-> 1217\u001b[0m \u001b[38;5;28mself\u001b[39m\u001b[38;5;241m.\u001b[39mhandles \u001b[38;5;241m=\u001b[39m \u001b[43mget_handle\u001b[49m\u001b[43m(\u001b[49m\u001b[43m  \u001b[49m\u001b[38;5;66;43;03m# type: ignore[call-overload]\u001b[39;49;00m\n\u001b[0;32m   1218\u001b[0m \u001b[43m    \u001b[49m\u001b[43mf\u001b[49m\u001b[43m,\u001b[49m\n\u001b[0;32m   1219\u001b[0m \u001b[43m    \u001b[49m\u001b[43mmode\u001b[49m\u001b[43m,\u001b[49m\n\u001b[0;32m   1220\u001b[0m \u001b[43m    \u001b[49m\u001b[43mencoding\u001b[49m\u001b[38;5;241;43m=\u001b[39;49m\u001b[38;5;28;43mself\u001b[39;49m\u001b[38;5;241;43m.\u001b[39;49m\u001b[43moptions\u001b[49m\u001b[38;5;241;43m.\u001b[39;49m\u001b[43mget\u001b[49m\u001b[43m(\u001b[49m\u001b[38;5;124;43m\"\u001b[39;49m\u001b[38;5;124;43mencoding\u001b[39;49m\u001b[38;5;124;43m\"\u001b[39;49m\u001b[43m,\u001b[49m\u001b[43m \u001b[49m\u001b[38;5;28;43;01mNone\u001b[39;49;00m\u001b[43m)\u001b[49m\u001b[43m,\u001b[49m\n\u001b[0;32m   1221\u001b[0m \u001b[43m    \u001b[49m\u001b[43mcompression\u001b[49m\u001b[38;5;241;43m=\u001b[39;49m\u001b[38;5;28;43mself\u001b[39;49m\u001b[38;5;241;43m.\u001b[39;49m\u001b[43moptions\u001b[49m\u001b[38;5;241;43m.\u001b[39;49m\u001b[43mget\u001b[49m\u001b[43m(\u001b[49m\u001b[38;5;124;43m\"\u001b[39;49m\u001b[38;5;124;43mcompression\u001b[39;49m\u001b[38;5;124;43m\"\u001b[39;49m\u001b[43m,\u001b[49m\u001b[43m \u001b[49m\u001b[38;5;28;43;01mNone\u001b[39;49;00m\u001b[43m)\u001b[49m\u001b[43m,\u001b[49m\n\u001b[0;32m   1222\u001b[0m \u001b[43m    \u001b[49m\u001b[43mmemory_map\u001b[49m\u001b[38;5;241;43m=\u001b[39;49m\u001b[38;5;28;43mself\u001b[39;49m\u001b[38;5;241;43m.\u001b[39;49m\u001b[43moptions\u001b[49m\u001b[38;5;241;43m.\u001b[39;49m\u001b[43mget\u001b[49m\u001b[43m(\u001b[49m\u001b[38;5;124;43m\"\u001b[39;49m\u001b[38;5;124;43mmemory_map\u001b[39;49m\u001b[38;5;124;43m\"\u001b[39;49m\u001b[43m,\u001b[49m\u001b[43m \u001b[49m\u001b[38;5;28;43;01mFalse\u001b[39;49;00m\u001b[43m)\u001b[49m\u001b[43m,\u001b[49m\n\u001b[0;32m   1223\u001b[0m \u001b[43m    \u001b[49m\u001b[43mis_text\u001b[49m\u001b[38;5;241;43m=\u001b[39;49m\u001b[43mis_text\u001b[49m\u001b[43m,\u001b[49m\n\u001b[0;32m   1224\u001b[0m \u001b[43m    \u001b[49m\u001b[43merrors\u001b[49m\u001b[38;5;241;43m=\u001b[39;49m\u001b[38;5;28;43mself\u001b[39;49m\u001b[38;5;241;43m.\u001b[39;49m\u001b[43moptions\u001b[49m\u001b[38;5;241;43m.\u001b[39;49m\u001b[43mget\u001b[49m\u001b[43m(\u001b[49m\u001b[38;5;124;43m\"\u001b[39;49m\u001b[38;5;124;43mencoding_errors\u001b[39;49m\u001b[38;5;124;43m\"\u001b[39;49m\u001b[43m,\u001b[49m\u001b[43m \u001b[49m\u001b[38;5;124;43m\"\u001b[39;49m\u001b[38;5;124;43mstrict\u001b[39;49m\u001b[38;5;124;43m\"\u001b[39;49m\u001b[43m)\u001b[49m\u001b[43m,\u001b[49m\n\u001b[0;32m   1225\u001b[0m \u001b[43m    \u001b[49m\u001b[43mstorage_options\u001b[49m\u001b[38;5;241;43m=\u001b[39;49m\u001b[38;5;28;43mself\u001b[39;49m\u001b[38;5;241;43m.\u001b[39;49m\u001b[43moptions\u001b[49m\u001b[38;5;241;43m.\u001b[39;49m\u001b[43mget\u001b[49m\u001b[43m(\u001b[49m\u001b[38;5;124;43m\"\u001b[39;49m\u001b[38;5;124;43mstorage_options\u001b[39;49m\u001b[38;5;124;43m\"\u001b[39;49m\u001b[43m,\u001b[49m\u001b[43m \u001b[49m\u001b[38;5;28;43;01mNone\u001b[39;49;00m\u001b[43m)\u001b[49m\u001b[43m,\u001b[49m\n\u001b[0;32m   1226\u001b[0m \u001b[43m\u001b[49m\u001b[43m)\u001b[49m\n\u001b[0;32m   1227\u001b[0m \u001b[38;5;28;01massert\u001b[39;00m \u001b[38;5;28mself\u001b[39m\u001b[38;5;241m.\u001b[39mhandles \u001b[38;5;129;01mis\u001b[39;00m \u001b[38;5;129;01mnot\u001b[39;00m \u001b[38;5;28;01mNone\u001b[39;00m\n\u001b[0;32m   1228\u001b[0m f \u001b[38;5;241m=\u001b[39m \u001b[38;5;28mself\u001b[39m\u001b[38;5;241m.\u001b[39mhandles\u001b[38;5;241m.\u001b[39mhandle\n",
      "File \u001b[1;32mD:\\Anaconda\\lib\\site-packages\\pandas\\io\\common.py:789\u001b[0m, in \u001b[0;36mget_handle\u001b[1;34m(path_or_buf, mode, encoding, compression, memory_map, is_text, errors, storage_options)\u001b[0m\n\u001b[0;32m    784\u001b[0m \u001b[38;5;28;01melif\u001b[39;00m \u001b[38;5;28misinstance\u001b[39m(handle, \u001b[38;5;28mstr\u001b[39m):\n\u001b[0;32m    785\u001b[0m     \u001b[38;5;66;03m# Check whether the filename is to be opened in binary mode.\u001b[39;00m\n\u001b[0;32m    786\u001b[0m     \u001b[38;5;66;03m# Binary mode does not support 'encoding' and 'newline'.\u001b[39;00m\n\u001b[0;32m    787\u001b[0m     \u001b[38;5;28;01mif\u001b[39;00m ioargs\u001b[38;5;241m.\u001b[39mencoding \u001b[38;5;129;01mand\u001b[39;00m \u001b[38;5;124m\"\u001b[39m\u001b[38;5;124mb\u001b[39m\u001b[38;5;124m\"\u001b[39m \u001b[38;5;129;01mnot\u001b[39;00m \u001b[38;5;129;01min\u001b[39;00m ioargs\u001b[38;5;241m.\u001b[39mmode:\n\u001b[0;32m    788\u001b[0m         \u001b[38;5;66;03m# Encoding\u001b[39;00m\n\u001b[1;32m--> 789\u001b[0m         handle \u001b[38;5;241m=\u001b[39m \u001b[38;5;28;43mopen\u001b[39;49m\u001b[43m(\u001b[49m\n\u001b[0;32m    790\u001b[0m \u001b[43m            \u001b[49m\u001b[43mhandle\u001b[49m\u001b[43m,\u001b[49m\n\u001b[0;32m    791\u001b[0m \u001b[43m            \u001b[49m\u001b[43mioargs\u001b[49m\u001b[38;5;241;43m.\u001b[39;49m\u001b[43mmode\u001b[49m\u001b[43m,\u001b[49m\n\u001b[0;32m    792\u001b[0m \u001b[43m            \u001b[49m\u001b[43mencoding\u001b[49m\u001b[38;5;241;43m=\u001b[39;49m\u001b[43mioargs\u001b[49m\u001b[38;5;241;43m.\u001b[39;49m\u001b[43mencoding\u001b[49m\u001b[43m,\u001b[49m\n\u001b[0;32m    793\u001b[0m \u001b[43m            \u001b[49m\u001b[43merrors\u001b[49m\u001b[38;5;241;43m=\u001b[39;49m\u001b[43merrors\u001b[49m\u001b[43m,\u001b[49m\n\u001b[0;32m    794\u001b[0m \u001b[43m            \u001b[49m\u001b[43mnewline\u001b[49m\u001b[38;5;241;43m=\u001b[39;49m\u001b[38;5;124;43m\"\u001b[39;49m\u001b[38;5;124;43m\"\u001b[39;49m\u001b[43m,\u001b[49m\n\u001b[0;32m    795\u001b[0m \u001b[43m        \u001b[49m\u001b[43m)\u001b[49m\n\u001b[0;32m    796\u001b[0m     \u001b[38;5;28;01melse\u001b[39;00m:\n\u001b[0;32m    797\u001b[0m         \u001b[38;5;66;03m# Binary mode\u001b[39;00m\n\u001b[0;32m    798\u001b[0m         handle \u001b[38;5;241m=\u001b[39m \u001b[38;5;28mopen\u001b[39m(handle, ioargs\u001b[38;5;241m.\u001b[39mmode)\n",
      "\u001b[1;31mFileNotFoundError\u001b[0m: [Errno 2] No such file or directory: 'employee_promotion.csv'"
     ]
    }
   ],
   "source": [
    "import pandas as pd\n",
    "import numpy as np\n",
    "import seaborn as sns\n",
    "import matplotlib.pyplot as plt\n",
    "from sklearn.preprocessing import LabelEncoder\n",
    "df=pd.read_csv(\"employee_promotion.csv\")"
   ]
  },
  {
   "cell_type": "code",
   "execution_count": 5,
   "id": "3c465a09",
   "metadata": {
    "colab": {
     "base_uri": "https://localhost:8080/",
     "height": 302
    },
    "id": "3c465a09",
    "outputId": "f678b4ce-8882-4e06-9a56-678fb6323caf"
   },
   "outputs": [
    {
     "ename": "NameError",
     "evalue": "name 'df' is not defined",
     "output_type": "error",
     "traceback": [
      "\u001b[1;31m---------------------------------------------------------------------------\u001b[0m",
      "\u001b[1;31mNameError\u001b[0m                                 Traceback (most recent call last)",
      "Input \u001b[1;32mIn [5]\u001b[0m, in \u001b[0;36m<cell line: 1>\u001b[1;34m()\u001b[0m\n\u001b[1;32m----> 1\u001b[0m \u001b[43mdf\u001b[49m\u001b[38;5;241m.\u001b[39mhead()\n",
      "\u001b[1;31mNameError\u001b[0m: name 'df' is not defined"
     ]
    }
   ],
   "source": [
    "df.head()"
   ]
  },
  {
   "cell_type": "markdown",
   "id": "d254b6b1",
   "metadata": {
    "id": "d254b6b1"
   },
   "source": [
    "## 2.2 EDA & exploring the data"
   ]
  },
  {
   "cell_type": "code",
   "execution_count": null,
   "id": "04493022",
   "metadata": {
    "colab": {
     "base_uri": "https://localhost:8080/"
    },
    "id": "04493022",
    "outputId": "b6549495-e6d7-4fa4-a851-0f5b60607539"
   },
   "outputs": [],
   "source": [
    "df.info()"
   ]
  },
  {
   "cell_type": "code",
   "execution_count": null,
   "id": "bda2657e",
   "metadata": {
    "colab": {
     "base_uri": "https://localhost:8080/",
     "height": 466
    },
    "id": "bda2657e",
    "outputId": "daa0ea84-3497-4693-b0a4-f7f9f48037d0"
   },
   "outputs": [],
   "source": [
    "def func(pct, allvalues):\n",
    "    absolute = int(pct / 100.*np.sum(allvalues))\n",
    "    return \"{:.1f}%\\n({:d})\".format(pct, absolute)\n",
    "fig, ax = plt.subplots(figsize = (12, 8))\n",
    "promo = df.is_promoted.value_counts()\n",
    "ax.pie(promo.values, labels = promo.index,  shadow = True,\n",
    "       autopct = lambda pct: func(pct, promo.values),\n",
    "       textprops = {'family':'sans-serif', 'fontsize':'x-large', 'fontstyle':'italic', 'fontweight':'heavy'})\n",
    "\n",
    "plt.show()"
   ]
  },
  {
   "cell_type": "code",
   "execution_count": null,
   "id": "7513fb28",
   "metadata": {
    "colab": {
     "base_uri": "https://localhost:8080/",
     "height": 497
    },
    "id": "7513fb28",
    "outputId": "c1d9467b-20dc-4ad8-a075-ce77d3bac808"
   },
   "outputs": [],
   "source": [
    "fig,ax=plt.subplots(figsize = (20,8))\n",
    "sns.countplot(data=df, x=\"department\", hue=\"is_promoted\")\n",
    "ax.legend()\n",
    "plt.show()"
   ]
  },
  {
   "cell_type": "code",
   "execution_count": null,
   "id": "0d32982b",
   "metadata": {
    "colab": {
     "base_uri": "https://localhost:8080/"
    },
    "id": "0d32982b",
    "outputId": "b8a4206b-e4a6-4ad5-91ff-2703c103b4f2"
   },
   "outputs": [],
   "source": [
    "df.region.value_counts()"
   ]
  },
  {
   "cell_type": "code",
   "execution_count": null,
   "id": "8689da42",
   "metadata": {
    "colab": {
     "base_uri": "https://localhost:8080/"
    },
    "id": "8689da42",
    "outputId": "89964510-6be6-4d9d-eeb6-478762be55e5"
   },
   "outputs": [],
   "source": [
    "df.education.value_counts()"
   ]
  },
  {
   "cell_type": "code",
   "execution_count": null,
   "id": "08b2cf6c",
   "metadata": {
    "colab": {
     "base_uri": "https://localhost:8080/",
     "height": 497
    },
    "id": "08b2cf6c",
    "outputId": "c606d05e-a712-4932-ffbc-c2a4a1e720ae"
   },
   "outputs": [],
   "source": [
    "fig,ax=plt.subplots(figsize = (20,8))\n",
    "sns.countplot(data=df, x=\"education\", hue=\"is_promoted\")\n",
    "ax.legend()\n",
    "plt.show()"
   ]
  },
  {
   "cell_type": "code",
   "execution_count": null,
   "id": "327e4971",
   "metadata": {
    "colab": {
     "base_uri": "https://localhost:8080/",
     "height": 466
    },
    "id": "327e4971",
    "outputId": "ae35401b-e295-4567-ac7c-02ff4aff138a"
   },
   "outputs": [],
   "source": [
    "def func(pct, allvalues):\n",
    "    absolute = int(pct / 100.*np.sum(allvalues))\n",
    "    return \"{:.1f}%\\n({:d})\".format(pct, absolute)\n",
    "fig, ax = plt.subplots(figsize = (12, 8))\n",
    "promo = df.gender.value_counts()\n",
    "ax.pie(promo.values, labels = promo.index,  shadow = True,\n",
    "       autopct = lambda pct: func(pct, promo.values),\n",
    "       textprops = {'family':'sans-serif', 'fontsize':'x-large', 'fontstyle':'italic', 'fontweight':'heavy'})\n",
    "\n",
    "plt.show()"
   ]
  },
  {
   "cell_type": "code",
   "execution_count": null,
   "id": "b7b412c4",
   "metadata": {
    "colab": {
     "base_uri": "https://localhost:8080/",
     "height": 497
    },
    "id": "b7b412c4",
    "outputId": "da1fb849-d244-402b-9a42-862076ec11f7"
   },
   "outputs": [],
   "source": [
    "fig,ax=plt.subplots(figsize = (20,8))\n",
    "sns.countplot(data=df, x=\"gender\", hue=\"is_promoted\")\n",
    "ax.legend()\n",
    "plt.show()"
   ]
  },
  {
   "cell_type": "code",
   "execution_count": null,
   "id": "42b8921c",
   "metadata": {
    "colab": {
     "base_uri": "https://localhost:8080/"
    },
    "id": "42b8921c",
    "outputId": "97cdcfd0-70d3-4f76-b66c-c4402c344dc3"
   },
   "outputs": [],
   "source": [
    "df.recruitment_channel.value_counts()"
   ]
  },
  {
   "cell_type": "code",
   "execution_count": null,
   "id": "6355f9b9",
   "metadata": {
    "colab": {
     "base_uri": "https://localhost:8080/",
     "height": 498
    },
    "id": "6355f9b9",
    "outputId": "1737b0a5-8c6c-4ca5-f1fd-626573e84133"
   },
   "outputs": [],
   "source": [
    "fig,ax=plt.subplots(figsize = (20,8))\n",
    "sns.countplot(data=df, x=\"recruitment_channel\", hue=\"is_promoted\")\n",
    "ax.legend()\n",
    "plt.show()"
   ]
  },
  {
   "cell_type": "code",
   "execution_count": null,
   "id": "95f5fa89",
   "metadata": {
    "colab": {
     "base_uri": "https://localhost:8080/"
    },
    "id": "95f5fa89",
    "outputId": "6660b75b-780e-4a67-e634-5709ef524ab4"
   },
   "outputs": [],
   "source": [
    "df.no_of_trainings.describe()"
   ]
  },
  {
   "cell_type": "code",
   "execution_count": null,
   "id": "afb8d1ef",
   "metadata": {
    "colab": {
     "base_uri": "https://localhost:8080/"
    },
    "id": "afb8d1ef",
    "outputId": "b84aeafe-1865-4216-a70f-9f253ea0299f"
   },
   "outputs": [],
   "source": [
    "df.age.describe()"
   ]
  },
  {
   "cell_type": "code",
   "execution_count": null,
   "id": "6be1ec2d",
   "metadata": {
    "colab": {
     "base_uri": "https://localhost:8080/",
     "height": 497
    },
    "id": "6be1ec2d",
    "outputId": "1288beec-0a1e-4f38-a135-a45baebe2842"
   },
   "outputs": [],
   "source": [
    "fig, ax = plt.subplots(figsize = (20,8))\n",
    "sns.kdeplot(df.age, alpha=0.5,shade = True, color=\"red\", label=\"Age\")\n",
    "\n",
    "ax.legend()\n",
    "plt.show()"
   ]
  },
  {
   "cell_type": "code",
   "execution_count": null,
   "id": "e4f70bed",
   "metadata": {
    "colab": {
     "base_uri": "https://localhost:8080/"
    },
    "id": "e4f70bed",
    "outputId": "a99e811f-d958-4f4a-fb69-d89db8db31bb"
   },
   "outputs": [],
   "source": [
    "df.previous_year_rating.describe()"
   ]
  },
  {
   "cell_type": "code",
   "execution_count": null,
   "id": "fb1f51fc",
   "metadata": {
    "colab": {
     "base_uri": "https://localhost:8080/",
     "height": 498
    },
    "id": "fb1f51fc",
    "outputId": "42f08036-a53e-473f-adfe-284525c3e5ec"
   },
   "outputs": [],
   "source": [
    "fig, ax = plt.subplots(figsize = (20,8))\n",
    "sns.kdeplot(df.previous_year_rating, alpha=0.5,shade = True, color=\"red\", label=\"Age\")\n",
    "\n",
    "ax.legend()\n",
    "plt.show()"
   ]
  },
  {
   "cell_type": "code",
   "execution_count": null,
   "id": "61cfdabc",
   "metadata": {
    "colab": {
     "base_uri": "https://localhost:8080/"
    },
    "id": "61cfdabc",
    "outputId": "a7239dcf-aee3-4ff8-f975-dafa5c571efd"
   },
   "outputs": [],
   "source": [
    "df.length_of_service.describe()"
   ]
  },
  {
   "cell_type": "code",
   "execution_count": null,
   "id": "1bf00d25",
   "metadata": {
    "colab": {
     "base_uri": "https://localhost:8080/",
     "height": 498
    },
    "id": "1bf00d25",
    "outputId": "2bc7d353-7cf7-4df8-fc0f-969d6098c395"
   },
   "outputs": [],
   "source": [
    "fig, ax = plt.subplots(figsize = (20,8))\n",
    "sns.kdeplot(df.length_of_service, alpha=0.5,shade = True, color=\"red\", label=\"Age\")\n",
    "\n",
    "ax.legend()\n",
    "plt.show()"
   ]
  },
  {
   "cell_type": "code",
   "execution_count": null,
   "id": "2de91fb7",
   "metadata": {
    "colab": {
     "base_uri": "https://localhost:8080/"
    },
    "id": "2de91fb7",
    "outputId": "d5a17ae3-1b81-4d70-d44a-a049ba6fb775"
   },
   "outputs": [],
   "source": [
    "df.awards_won.describe()\n"
   ]
  },
  {
   "cell_type": "code",
   "execution_count": null,
   "id": "146f90d2",
   "metadata": {
    "colab": {
     "base_uri": "https://localhost:8080/"
    },
    "id": "146f90d2",
    "outputId": "da8bc673-36de-4c49-df70-40a06a2b8aa5"
   },
   "outputs": [],
   "source": [
    "df.avg_training_score.describe()"
   ]
  },
  {
   "cell_type": "code",
   "execution_count": null,
   "id": "0624d20e",
   "metadata": {
    "colab": {
     "base_uri": "https://localhost:8080/",
     "height": 498
    },
    "id": "0624d20e",
    "outputId": "1909404e-e2d3-42a2-80c5-ba9e14e17d85"
   },
   "outputs": [],
   "source": [
    "fig, ax = plt.subplots(figsize = (20,8))\n",
    "sns.kdeplot(df.avg_training_score, alpha=0.5,shade = True, color=\"red\", label=\"Age\")\n",
    "\n",
    "ax.legend()\n",
    "plt.show()"
   ]
  },
  {
   "cell_type": "code",
   "execution_count": null,
   "id": "39dc6df2",
   "metadata": {
    "colab": {
     "base_uri": "https://localhost:8080/"
    },
    "id": "39dc6df2",
    "outputId": "8c24f27e-01d8-4a92-aed3-2e3cacc7e828"
   },
   "outputs": [],
   "source": [
    "x=df[df[\"is_promoted\"]==1]\n",
    "x.info()"
   ]
  },
  {
   "cell_type": "code",
   "execution_count": null,
   "id": "5565628c",
   "metadata": {
    "colab": {
     "base_uri": "https://localhost:8080/"
    },
    "id": "5565628c",
    "outputId": "16baf9d0-d2a3-480a-ddc2-3327d27c1979"
   },
   "outputs": [],
   "source": [
    "x.region.value_counts()"
   ]
  },
  {
   "cell_type": "code",
   "execution_count": null,
   "id": "514f86b8",
   "metadata": {
    "colab": {
     "base_uri": "https://localhost:8080/",
     "height": 514
    },
    "id": "514f86b8",
    "outputId": "23eb5ce8-9cba-42b5-ab39-e1a5d3c30f92"
   },
   "outputs": [],
   "source": [
    "fig,ax=plt.subplots(figsize = (20,8))\n",
    "sns.countplot(data=x, x=\"department\")\n",
    "ax.legend()\n",
    "plt.show()"
   ]
  },
  {
   "cell_type": "code",
   "execution_count": null,
   "id": "cb65de10",
   "metadata": {
    "colab": {
     "base_uri": "https://localhost:8080/",
     "height": 515
    },
    "id": "cb65de10",
    "outputId": "e71b8352-5868-4b8e-ac64-508e10cd4dd2"
   },
   "outputs": [],
   "source": [
    "fig,ax=plt.subplots(figsize = (20,8))\n",
    "sns.countplot(data=x, x=\"recruitment_channel\")\n",
    "ax.legend()\n",
    "plt.show()"
   ]
  },
  {
   "cell_type": "code",
   "execution_count": null,
   "id": "21974d97",
   "metadata": {
    "colab": {
     "base_uri": "https://localhost:8080/"
    },
    "id": "21974d97",
    "outputId": "fd238508-65af-427a-f20a-d427826ccbb1"
   },
   "outputs": [],
   "source": [
    "x.recruitment_channel.value_counts()"
   ]
  },
  {
   "cell_type": "code",
   "execution_count": null,
   "id": "b244259b",
   "metadata": {
    "colab": {
     "base_uri": "https://localhost:8080/"
    },
    "id": "b244259b",
    "outputId": "98225f8b-6689-40fc-c121-ec1a5fdbef23"
   },
   "outputs": [],
   "source": [
    "x.education.value_counts()"
   ]
  },
  {
   "cell_type": "code",
   "execution_count": null,
   "id": "5e68fa1c",
   "metadata": {
    "colab": {
     "base_uri": "https://localhost:8080/"
    },
    "id": "5e68fa1c",
    "outputId": "91426fc0-84c0-403e-f568-f20a481af70b"
   },
   "outputs": [],
   "source": [
    "x.gender.value_counts()"
   ]
  },
  {
   "cell_type": "code",
   "execution_count": null,
   "id": "b164ed15",
   "metadata": {
    "colab": {
     "base_uri": "https://localhost:8080/"
    },
    "id": "b164ed15",
    "outputId": "157cb41a-3894-46de-af0b-d4a392a27941"
   },
   "outputs": [],
   "source": [
    "x.no_of_trainings.describe()"
   ]
  },
  {
   "cell_type": "code",
   "execution_count": null,
   "id": "1a6cea98",
   "metadata": {
    "colab": {
     "base_uri": "https://localhost:8080/",
     "height": 497
    },
    "id": "1a6cea98",
    "outputId": "9c7cf7b6-39fb-409f-c19a-3d86ace7bd5e"
   },
   "outputs": [],
   "source": [
    "fig, ax = plt.subplots(figsize = (20,8))\n",
    "sns.kdeplot(x.age, alpha=0.5,shade = True, label=\"Age\")\n",
    "\n",
    "ax.legend()\n",
    "plt.show()"
   ]
  },
  {
   "cell_type": "code",
   "execution_count": null,
   "id": "9b85cb34",
   "metadata": {
    "colab": {
     "base_uri": "https://localhost:8080/",
     "height": 498
    },
    "id": "9b85cb34",
    "outputId": "aef75fdc-3463-41e9-c86e-d385bd799e0c"
   },
   "outputs": [],
   "source": [
    "fig, ax = plt.subplots(figsize = (20,8))\n",
    "sns.kdeplot(x.previous_year_rating, alpha=0.5,shade = True,  label=\"Age\")\n",
    "\n",
    "ax.legend()\n",
    "plt.show()"
   ]
  },
  {
   "cell_type": "code",
   "execution_count": null,
   "id": "8fdc202f",
   "metadata": {
    "colab": {
     "base_uri": "https://localhost:8080/",
     "height": 498
    },
    "id": "8fdc202f",
    "outputId": "8b49ac69-456a-4252-c20d-b00e8f080b3b"
   },
   "outputs": [],
   "source": [
    "fig, ax = plt.subplots(figsize = (20,8))\n",
    "sns.kdeplot(x.length_of_service, alpha=0.5,shade = True, label=\"Age\")\n",
    "\n",
    "ax.legend()\n",
    "plt.show()"
   ]
  },
  {
   "cell_type": "code",
   "execution_count": null,
   "id": "4a5e8ad3",
   "metadata": {
    "colab": {
     "base_uri": "https://localhost:8080/"
    },
    "id": "4a5e8ad3",
    "outputId": "e112c78c-6e30-4cd8-fc37-582c648efcb3"
   },
   "outputs": [],
   "source": [
    "x.awards_won.describe()"
   ]
  },
  {
   "cell_type": "code",
   "execution_count": null,
   "id": "d8065765",
   "metadata": {
    "colab": {
     "base_uri": "https://localhost:8080/",
     "height": 498
    },
    "id": "d8065765",
    "outputId": "2be2e467-959f-4137-98bc-1dff6b4cdd51"
   },
   "outputs": [],
   "source": [
    "fig, ax = plt.subplots(figsize = (20,8))\n",
    "sns.kdeplot(x.avg_training_score, alpha=0.5,shade = True, label=\"Age\")\n",
    "\n",
    "ax.legend()\n",
    "plt.show()"
   ]
  },
  {
   "cell_type": "markdown",
   "id": "927ed1f1",
   "metadata": {
    "id": "927ed1f1"
   },
   "source": [
    "## 2.3 Filling Null Values"
   ]
  },
  {
   "cell_type": "code",
   "execution_count": null,
   "id": "55ac274b",
   "metadata": {
    "colab": {
     "base_uri": "https://localhost:8080/"
    },
    "id": "55ac274b",
    "outputId": "f8303fc6-8714-4e69-e01c-19a92d5383ce"
   },
   "outputs": [],
   "source": [
    "df.isnull().sum()"
   ]
  },
  {
   "cell_type": "code",
   "execution_count": null,
   "id": "9a953233",
   "metadata": {
    "colab": {
     "base_uri": "https://localhost:8080/"
    },
    "id": "9a953233",
    "outputId": "c54815df-3452-43aa-b59a-e7fcb8c5b542"
   },
   "outputs": [],
   "source": [
    "x.isnull().sum()"
   ]
  },
  {
   "cell_type": "code",
   "execution_count": null,
   "id": "2844d333",
   "metadata": {
    "id": "2844d333"
   },
   "outputs": [],
   "source": [
    "df['avg_training_score'].fillna(df['avg_training_score'].median(), inplace=True)\n",
    "df.previous_year_rating.fillna(method='ffill',inplace=True)"
   ]
  },
  {
   "cell_type": "code",
   "execution_count": null,
   "id": "6e306e94",
   "metadata": {
    "id": "6e306e94"
   },
   "outputs": [],
   "source": [
    "df.dropna(inplace=True)"
   ]
  },
  {
   "cell_type": "code",
   "execution_count": null,
   "id": "9af381fa",
   "metadata": {
    "colab": {
     "base_uri": "https://localhost:8080/"
    },
    "id": "9af381fa",
    "outputId": "7b53ac46-495b-49f3-badb-2cc923b11a95"
   },
   "outputs": [],
   "source": [
    "df.isnull().sum()"
   ]
  },
  {
   "cell_type": "code",
   "execution_count": null,
   "id": "1241cc6b",
   "metadata": {
    "colab": {
     "base_uri": "https://localhost:8080/",
     "height": 0
    },
    "id": "1241cc6b",
    "outputId": "20c91433-8ade-450a-c801-2848e9bf966a"
   },
   "outputs": [],
   "source": [
    "fig, ax = plt.subplots(figsize = (12, 8))\n",
    "promo = df.is_promoted.value_counts()\n",
    "ax.pie(promo.values, labels = promo.index,  shadow = True,\n",
    "       autopct = lambda pct: func(pct, promo.values),\n",
    "       textprops = {'family':'sans-serif', 'fontsize':'x-large', 'fontstyle':'italic', 'fontweight':'heavy'})\n",
    "\n",
    "plt.show()"
   ]
  },
  {
   "cell_type": "markdown",
   "id": "6d6e7cc3",
   "metadata": {
    "id": "6d6e7cc3"
   },
   "source": [
    "## 2.4 Encoding, correlation& Preprocessing"
   ]
  },
  {
   "cell_type": "code",
   "execution_count": null,
   "id": "2318f89c",
   "metadata": {
    "colab": {
     "base_uri": "https://localhost:8080/"
    },
    "id": "2318f89c",
    "outputId": "3eae0147-42f8-4f1c-aed8-373a3fad13b1"
   },
   "outputs": [],
   "source": [
    "df.info()"
   ]
  },
  {
   "cell_type": "code",
   "execution_count": null,
   "id": "2670fea3",
   "metadata": {
    "id": "2670fea3"
   },
   "outputs": [],
   "source": [
    "le=LabelEncoder()"
   ]
  },
  {
   "cell_type": "code",
   "execution_count": null,
   "id": "25aa469d",
   "metadata": {
    "id": "25aa469d"
   },
   "outputs": [],
   "source": [
    "df.department=le.fit_transform(df.department)\n",
    "df.region=le.fit_transform(df.region)\n",
    "df.education=le.fit_transform(df.education)\n",
    "df.gender=le.fit_transform(df.gender)\n",
    "df.recruitment_channel=le.fit_transform(df.recruitment_channel)"
   ]
  },
  {
   "cell_type": "code",
   "execution_count": null,
   "id": "fb643805",
   "metadata": {
    "colab": {
     "base_uri": "https://localhost:8080/",
     "height": 0
    },
    "id": "fb643805",
    "outputId": "71cd2549-d47e-4a2b-802f-8d6fc82d8ec5"
   },
   "outputs": [],
   "source": [
    "plt.figure(figsize=(20,12))\n",
    "sns.heatmap(df.corr(),annot=True)"
   ]
  },
  {
   "cell_type": "code",
   "execution_count": null,
   "id": "32f4529d",
   "metadata": {
    "colab": {
     "base_uri": "https://localhost:8080/",
     "height": 0
    },
    "id": "32f4529d",
    "outputId": "e0ecca3f-b0ab-4344-db0a-5e4e22e60ec5"
   },
   "outputs": [],
   "source": [
    "for i in df.columns:\n",
    "    fig, ax =plt.subplots(1,2, figsize=(12,8))\n",
    "    sns.boxplot(data=df, y=i, ax=ax[0], color='#7209b7')\n",
    "    plt.show()"
   ]
  },
  {
   "cell_type": "code",
   "execution_count": null,
   "id": "12eff93b",
   "metadata": {
    "colab": {
     "base_uri": "https://localhost:8080/"
    },
    "id": "12eff93b",
    "outputId": "318bc037-3419-46d3-b519-931a96081b53"
   },
   "outputs": [],
   "source": [
    "df.columns"
   ]
  },
  {
   "cell_type": "code",
   "execution_count": null,
   "id": "e0e5d642",
   "metadata": {
    "colab": {
     "base_uri": "https://localhost:8080/"
    },
    "id": "e0e5d642",
    "outputId": "17570c9b-5335-462f-e5d4-52e043f4ce7b"
   },
   "outputs": [],
   "source": [
    "outlier_percentage = {}\n",
    "\n",
    "for feature in [ 'no_of_trainings', 'age', 'previous_year_rating',\n",
    "       'length_of_service', 'awards_won', 'avg_training_score']:\n",
    "    tempData = df.sort_values(by=feature)[feature]\n",
    "    Q1, Q3 = tempData.quantile([0.25, 0.75])\n",
    "    IQR = Q3 - Q1\n",
    "    Lower_range = Q1 - (1.5 * IQR)\n",
    "    Upper_range = Q3 + (1.5 * IQR)\n",
    "    outlier_percentage[feature] = round((((tempData<(Q1 - 1.5 * IQR)) | (tempData>(Q3 + 1.5 * IQR))).sum()/tempData.shape[0])*100,2)\n",
    "outlier_percentage"
   ]
  },
  {
   "cell_type": "markdown",
   "id": "9896bccf",
   "metadata": {
    "id": "9896bccf"
   },
   "source": [
    "## 2.5 splitting and down sampling the data"
   ]
  },
  {
   "cell_type": "code",
   "execution_count": null,
   "id": "d9e1ddb2",
   "metadata": {
    "id": "d9e1ddb2"
   },
   "outputs": [],
   "source": [
    "from sklearn.model_selection import train_test_split\n",
    "df=df[['department', 'region', 'education', 'gender',\n",
    "       'recruitment_channel', 'no_of_trainings', 'age', 'previous_year_rating',\n",
    "       'length_of_service', 'awards_won', 'avg_training_score', 'is_promoted']]\n",
    "x=df.drop('is_promoted',axis=1)\n",
    "y=df['is_promoted']\n",
    "x_train, x_test, y_train, y_test = train_test_split(x,y,test_size=0.25,random_state=101)"
   ]
  },
  {
   "cell_type": "code",
   "execution_count": null,
   "id": "Oe95nuJExQGv",
   "metadata": {
    "id": "Oe95nuJExQGv"
   },
   "outputs": [],
   "source": [
    "from imblearn.under_sampling import RandomUnderSampler,NearMiss\n",
    "nearmiss=NearMiss(version=3)\n",
    "x1,y1=nearmiss.fit_resample(x,y )\n",
    "\n",
    "x1_train, x1_test, y1_train, y1_test = train_test_split(x1,y1,test_size=0.25,random_state=101)\n",
    "rand=RandomUnderSampler(random_state=42)\n",
    "x2,y2=rand.fit_resample(x,y )\n",
    "x2_train, x2_test, y2_train, y2_test = train_test_split(x2,y2,test_size=0.25,random_state=101)"
   ]
  },
  {
   "cell_type": "code",
   "execution_count": null,
   "id": "te4Uh7IdJBoq",
   "metadata": {
    "id": "te4Uh7IdJBoq"
   },
   "outputs": [],
   "source": [
    "from imblearn.over_sampling import RandomOverSampler,SMOTE\n",
    "rando=RandomOverSampler(random_state=42)\n",
    "x3,y3=rando.fit_resample(x,y )\n",
    "\n",
    "x3_train, x3_test, y3_train, y3_test = train_test_split(x3,y3,test_size=0.25,random_state=101)\n",
    "SMOTE=SMOTE(random_state=42)\n",
    "x4,y4=SMOTE.fit_resample(x,y )\n",
    "x4_train, x4_test, y4_train, y4_test = train_test_split(x4,y4,test_size=0.25,random_state=101)"
   ]
  },
  {
   "cell_type": "code",
   "execution_count": null,
   "id": "f8d37683",
   "metadata": {
    "id": "f8d37683"
   },
   "outputs": [],
   "source": [
    "from sklearn.preprocessing import MinMaxScaler,RobustScaler\n",
    "scaler=MinMaxScaler()\n",
    "x_train=scaler.fit_transform(x_train)\n",
    "x_test=scaler.transform(x_test)\n",
    "x1_train=scaler.fit_transform(x1_train)\n",
    "x1_test=scaler.transform(x1_test)\n",
    "\n",
    "x3_train=scaler.fit_transform(x3_train)\n",
    "x3_test=scaler.transform(x3_test)\n",
    "x4_train=scaler.fit_transform(x4_train)\n",
    "x4_test=scaler.transform(x4_test)"
   ]
  },
  {
   "cell_type": "markdown",
   "id": "011f6a7b",
   "metadata": {
    "id": "011f6a7b"
   },
   "source": [
    "## 2.6Modeling and Evaluation"
   ]
  },
  {
   "cell_type": "markdown",
   "id": "2d4bd7f1",
   "metadata": {
    "id": "2d4bd7f1"
   },
   "source": [
    "### 2.6.1 Logistic regression"
   ]
  },
  {
   "cell_type": "code",
   "execution_count": null,
   "id": "c6ccd85f",
   "metadata": {
    "colab": {
     "base_uri": "https://localhost:8080/"
    },
    "id": "c6ccd85f",
    "outputId": "dfa07871-4726-4623-df45-8152ab7c78fa"
   },
   "outputs": [],
   "source": [
    "from sklearn.linear_model import LogisticRegression\n",
    "classifier = LogisticRegression(random_state = 0)\n",
    "classifier.fit(x_train, y_train)"
   ]
  },
  {
   "cell_type": "code",
   "execution_count": null,
   "id": "31511554",
   "metadata": {
    "colab": {
     "base_uri": "https://localhost:8080/"
    },
    "id": "31511554",
    "outputId": "00cd87f9-f588-438c-a215-acaf75c61992"
   },
   "outputs": [],
   "source": [
    "from sklearn.metrics import confusion_matrix, accuracy_score\n",
    "y_pred = classifier.predict(x_test)\n",
    "cm = confusion_matrix(y_test, y_pred)\n",
    "print(cm)\n",
    "accuracy_score(y_test, y_pred)"
   ]
  },
  {
   "cell_type": "code",
   "execution_count": null,
   "id": "90e7b8bd",
   "metadata": {
    "colab": {
     "base_uri": "https://localhost:8080/",
     "height": 206
    },
    "id": "90e7b8bd",
    "outputId": "bbe738c4-f712-497a-b2f4-36040a5ea9c3"
   },
   "outputs": [],
   "source": [
    "from sklearn.metrics import classification_report, confusion_matrix\n",
    "dataout = classification_report(y_test, y_pred, output_dict=True)\n",
    "dataout = pd.DataFrame(dataout).transpose()\n",
    "dataout"
   ]
  },
  {
   "cell_type": "code",
   "execution_count": null,
   "id": "Sxb6NB9e0mfn",
   "metadata": {
    "colab": {
     "base_uri": "https://localhost:8080/"
    },
    "id": "Sxb6NB9e0mfn",
    "outputId": "2957ca0f-6672-4358-a5f4-56219ebb8648"
   },
   "outputs": [],
   "source": [
    "classifier.fit(x1_train, y1_train)"
   ]
  },
  {
   "cell_type": "code",
   "execution_count": null,
   "id": "Lym9u_710m0o",
   "metadata": {
    "colab": {
     "base_uri": "https://localhost:8080/"
    },
    "id": "Lym9u_710m0o",
    "outputId": "14cec774-a856-4704-ba38-349bb25f9aa6"
   },
   "outputs": [],
   "source": [
    "y_pred = classifier.predict(x1_test)\n",
    "cm = confusion_matrix(y1_test, y_pred)\n",
    "print(cm)\n",
    "accuracy_score(y1_test, y_pred)"
   ]
  },
  {
   "cell_type": "code",
   "execution_count": null,
   "id": "gNSMMuRV0nBB",
   "metadata": {
    "colab": {
     "base_uri": "https://localhost:8080/",
     "height": 206
    },
    "id": "gNSMMuRV0nBB",
    "outputId": "51d1b576-ab66-48e9-c6f5-37cfbefca861"
   },
   "outputs": [],
   "source": [
    "dataout = classification_report(y1_test, y_pred, output_dict=True)\n",
    "dataout = pd.DataFrame(dataout).transpose()\n",
    "dataout"
   ]
  },
  {
   "cell_type": "code",
   "execution_count": null,
   "id": "edyxKJDT0zla",
   "metadata": {
    "colab": {
     "base_uri": "https://localhost:8080/"
    },
    "id": "edyxKJDT0zla",
    "outputId": "f1bb0740-4d03-4991-a1c7-33b6ba0336d5"
   },
   "outputs": [],
   "source": [
    "classifier.fit(x2_train, y2_train)"
   ]
  },
  {
   "cell_type": "code",
   "execution_count": null,
   "id": "8WRAu5WM0zuj",
   "metadata": {
    "colab": {
     "base_uri": "https://localhost:8080/"
    },
    "id": "8WRAu5WM0zuj",
    "outputId": "a17754a4-2c8f-4ff4-ff0a-e475631d56ee"
   },
   "outputs": [],
   "source": [
    "y_pred = classifier.predict(x2_test)\n",
    "cm = confusion_matrix(y2_test, y_pred)\n",
    "print(cm)\n",
    "accuracy_score(y2_test, y_pred)"
   ]
  },
  {
   "cell_type": "code",
   "execution_count": null,
   "id": "zPd5FZXM0z5u",
   "metadata": {
    "colab": {
     "base_uri": "https://localhost:8080/",
     "height": 206
    },
    "id": "zPd5FZXM0z5u",
    "outputId": "fc4762bc-626f-4f43-8249-f5a75ab6da99"
   },
   "outputs": [],
   "source": [
    "dataout = classification_report(y2_test, y_pred, output_dict=True)\n",
    "dataout = pd.DataFrame(dataout).transpose()\n",
    "dataout"
   ]
  },
  {
   "cell_type": "code",
   "execution_count": null,
   "id": "HzQ6BiA8Kdo0",
   "metadata": {
    "colab": {
     "base_uri": "https://localhost:8080/"
    },
    "id": "HzQ6BiA8Kdo0",
    "outputId": "ccaca571-b4c9-49c3-df00-be6a1d97b879"
   },
   "outputs": [],
   "source": [
    "classifier.fit(x3_train, y3_train)"
   ]
  },
  {
   "cell_type": "code",
   "execution_count": null,
   "id": "fLKC-vX4Kd2P",
   "metadata": {
    "colab": {
     "base_uri": "https://localhost:8080/"
    },
    "id": "fLKC-vX4Kd2P",
    "outputId": "2347e501-bd9e-419b-b413-43d8f9f32cd5"
   },
   "outputs": [],
   "source": [
    "y_pred = classifier.predict(x3_test)\n",
    "cm = confusion_matrix(y3_test, y_pred)\n",
    "print(cm)\n",
    "accuracy_score(y3_test, y_pred)"
   ]
  },
  {
   "cell_type": "code",
   "execution_count": null,
   "id": "0EY5Yj24KeDC",
   "metadata": {
    "colab": {
     "base_uri": "https://localhost:8080/",
     "height": 206
    },
    "id": "0EY5Yj24KeDC",
    "outputId": "02e352fc-66b1-4014-a65d-4ec374c86c52"
   },
   "outputs": [],
   "source": [
    "dataout = classification_report(y3_test, y_pred, output_dict=True)\n",
    "dataout = pd.DataFrame(dataout).transpose()\n",
    "dataout"
   ]
  },
  {
   "cell_type": "code",
   "execution_count": null,
   "id": "PE89K_YHKecr",
   "metadata": {
    "colab": {
     "base_uri": "https://localhost:8080/"
    },
    "id": "PE89K_YHKecr",
    "outputId": "750e714c-2aa8-4f4b-a850-e53d043e5b48"
   },
   "outputs": [],
   "source": [
    "classifier.fit(x4_train, y4_train)"
   ]
  },
  {
   "cell_type": "code",
   "execution_count": null,
   "id": "Sczwwm24Kenb",
   "metadata": {
    "colab": {
     "base_uri": "https://localhost:8080/"
    },
    "id": "Sczwwm24Kenb",
    "outputId": "e7d69048-91e3-4476-f4b9-b91d6468be38"
   },
   "outputs": [],
   "source": [
    "y_pred = classifier.predict(x4_test)\n",
    "cm = confusion_matrix(y4_test, y_pred)\n",
    "print(cm)\n",
    "accuracy_score(y4_test, y_pred)"
   ]
  },
  {
   "cell_type": "code",
   "execution_count": null,
   "id": "xcxw8wh1Ke0L",
   "metadata": {
    "colab": {
     "base_uri": "https://localhost:8080/",
     "height": 206
    },
    "id": "xcxw8wh1Ke0L",
    "outputId": "54c3403a-9115-4bf3-b389-bcea3d170d37"
   },
   "outputs": [],
   "source": [
    "dataout = classification_report(y4_test, y_pred, output_dict=True)\n",
    "dataout = pd.DataFrame(dataout).transpose()\n",
    "dataout"
   ]
  },
  {
   "cell_type": "markdown",
   "id": "54ec68cc",
   "metadata": {
    "id": "54ec68cc"
   },
   "source": [
    "### 2.6.2 KNN"
   ]
  },
  {
   "cell_type": "code",
   "execution_count": null,
   "id": "149f9dbe",
   "metadata": {
    "colab": {
     "base_uri": "https://localhost:8080/"
    },
    "id": "149f9dbe",
    "outputId": "482ca2a9-679e-40fe-95af-c3478a9c81f1"
   },
   "outputs": [],
   "source": [
    "from sklearn.neighbors import KNeighborsClassifier\n",
    "classifier = KNeighborsClassifier(n_neighbors = 20, metric = 'minkowski', p = 2)\n",
    "classifier.fit(x_train, y_train)"
   ]
  },
  {
   "cell_type": "code",
   "execution_count": null,
   "id": "b7522b78",
   "metadata": {
    "colab": {
     "base_uri": "https://localhost:8080/"
    },
    "id": "b7522b78",
    "outputId": "e477e9df-e45c-4167-a02b-fa1d2605dd48"
   },
   "outputs": [],
   "source": [
    "y_pred = classifier.predict(x_test)\n",
    "cm = confusion_matrix(y_test, y_pred)\n",
    "print(cm)\n",
    "accuracy_score(y_test, y_pred)"
   ]
  },
  {
   "cell_type": "code",
   "execution_count": null,
   "id": "62777e30",
   "metadata": {
    "colab": {
     "base_uri": "https://localhost:8080/",
     "height": 206
    },
    "id": "62777e30",
    "outputId": "48067aa3-c5b6-444c-ca58-5f7949a23312"
   },
   "outputs": [],
   "source": [
    "dataout = classification_report(y_test, y_pred, output_dict=True)\n",
    "dataout = pd.DataFrame(dataout).transpose()\n",
    "dataout"
   ]
  },
  {
   "cell_type": "code",
   "execution_count": null,
   "id": "2ECNazll2Z5l",
   "metadata": {
    "colab": {
     "base_uri": "https://localhost:8080/"
    },
    "id": "2ECNazll2Z5l",
    "outputId": "454f26c2-8973-49e1-cbe6-1b875173509b"
   },
   "outputs": [],
   "source": [
    "classifier.fit(x1_train, y1_train)"
   ]
  },
  {
   "cell_type": "code",
   "execution_count": null,
   "id": "Pkons-Qe2Z8g",
   "metadata": {
    "colab": {
     "base_uri": "https://localhost:8080/"
    },
    "id": "Pkons-Qe2Z8g",
    "outputId": "b99f9f15-1a3b-4580-ca34-ef6b89e95eb0"
   },
   "outputs": [],
   "source": [
    "y_pred = classifier.predict(x1_test)\n",
    "cm = confusion_matrix(y1_test, y_pred)\n",
    "print(cm)\n",
    "accuracy_score(y1_test, y_pred)"
   ]
  },
  {
   "cell_type": "code",
   "execution_count": null,
   "id": "EKbS6NbA2Z_7",
   "metadata": {
    "colab": {
     "base_uri": "https://localhost:8080/",
     "height": 206
    },
    "id": "EKbS6NbA2Z_7",
    "outputId": "87331396-bdca-4233-d550-1f90474bff63"
   },
   "outputs": [],
   "source": [
    "dataout = classification_report(y1_test, y_pred, output_dict=True)\n",
    "dataout = pd.DataFrame(dataout).transpose()\n",
    "dataout"
   ]
  },
  {
   "cell_type": "code",
   "execution_count": null,
   "id": "BWCjrOy92aSX",
   "metadata": {
    "colab": {
     "base_uri": "https://localhost:8080/"
    },
    "id": "BWCjrOy92aSX",
    "outputId": "8bceddf3-7b0f-49ee-9948-16fb8544091e"
   },
   "outputs": [],
   "source": [
    "classifier.fit(x2_train, y2_train)"
   ]
  },
  {
   "cell_type": "code",
   "execution_count": null,
   "id": "9lIHAn7S2aV3",
   "metadata": {
    "colab": {
     "base_uri": "https://localhost:8080/"
    },
    "id": "9lIHAn7S2aV3",
    "outputId": "8a29078e-5901-4117-ec4e-b28ef726d3e7"
   },
   "outputs": [],
   "source": [
    "y_pred = classifier.predict(x2_test)\n",
    "cm = confusion_matrix(y2_test, y_pred)\n",
    "print(cm)\n",
    "accuracy_score(y2_test, y_pred)"
   ]
  },
  {
   "cell_type": "code",
   "execution_count": null,
   "id": "BwtTd5lp2aZf",
   "metadata": {
    "colab": {
     "base_uri": "https://localhost:8080/",
     "height": 206
    },
    "id": "BwtTd5lp2aZf",
    "outputId": "ffba1cf0-a89f-4ef9-a2a3-7bdb5e880b32"
   },
   "outputs": [],
   "source": [
    "dataout = classification_report(y2_test, y_pred, output_dict=True)\n",
    "dataout = pd.DataFrame(dataout).transpose()\n",
    "dataout"
   ]
  },
  {
   "cell_type": "code",
   "execution_count": null,
   "id": "ub-7Y6rpLSqb",
   "metadata": {
    "colab": {
     "base_uri": "https://localhost:8080/"
    },
    "id": "ub-7Y6rpLSqb",
    "outputId": "41c40c92-550b-4bc2-8bf9-b5fdd505f0f5"
   },
   "outputs": [],
   "source": [
    "classifier.fit(x3_train, y3_train)"
   ]
  },
  {
   "cell_type": "code",
   "execution_count": null,
   "id": "ktfw9XHTLSxC",
   "metadata": {
    "colab": {
     "base_uri": "https://localhost:8080/"
    },
    "id": "ktfw9XHTLSxC",
    "outputId": "e044a84b-dfe7-4c7e-93d6-5b4bd958d659"
   },
   "outputs": [],
   "source": [
    "y_pred = classifier.predict(x3_test)\n",
    "cm = confusion_matrix(y3_test, y_pred)\n",
    "print(cm)\n",
    "accuracy_score(y3_test, y_pred)"
   ]
  },
  {
   "cell_type": "code",
   "execution_count": null,
   "id": "Y-Lk9rFcLS2m",
   "metadata": {
    "colab": {
     "base_uri": "https://localhost:8080/",
     "height": 206
    },
    "id": "Y-Lk9rFcLS2m",
    "outputId": "4608dc5e-54f2-484e-8475-40e0ce5332fe"
   },
   "outputs": [],
   "source": [
    "dataout = classification_report(y3_test, y_pred, output_dict=True)\n",
    "dataout = pd.DataFrame(dataout).transpose()\n",
    "dataout"
   ]
  },
  {
   "cell_type": "code",
   "execution_count": null,
   "id": "J9AY8yMuLTD_",
   "metadata": {
    "colab": {
     "base_uri": "https://localhost:8080/"
    },
    "id": "J9AY8yMuLTD_",
    "outputId": "1394fff2-36df-412e-d7e7-e22d014ee619"
   },
   "outputs": [],
   "source": [
    "classifier.fit(x4_train, y4_train)"
   ]
  },
  {
   "cell_type": "code",
   "execution_count": null,
   "id": "QB-5vGgZLTKI",
   "metadata": {
    "colab": {
     "base_uri": "https://localhost:8080/"
    },
    "id": "QB-5vGgZLTKI",
    "outputId": "f2d5efcb-6335-4e13-bcc2-5e0117984479"
   },
   "outputs": [],
   "source": [
    "y_pred = classifier.predict(x4_test)\n",
    "cm = confusion_matrix(y4_test, y_pred)\n",
    "print(cm)\n",
    "accuracy_score(y4_test, y_pred)"
   ]
  },
  {
   "cell_type": "code",
   "execution_count": null,
   "id": "Ph4kWl4PLTNQ",
   "metadata": {
    "colab": {
     "base_uri": "https://localhost:8080/",
     "height": 206
    },
    "id": "Ph4kWl4PLTNQ",
    "outputId": "7338b0e2-9f29-4eb9-8d3f-63f586a6911b"
   },
   "outputs": [],
   "source": [
    "dataout = classification_report(y4_test, y_pred, output_dict=True)\n",
    "dataout = pd.DataFrame(dataout).transpose()\n",
    "dataout"
   ]
  },
  {
   "cell_type": "markdown",
   "id": "78bd1de8",
   "metadata": {
    "id": "78bd1de8"
   },
   "source": [
    "### 2.6.3 Decision tree"
   ]
  },
  {
   "cell_type": "code",
   "execution_count": null,
   "id": "08720d2c",
   "metadata": {
    "colab": {
     "base_uri": "https://localhost:8080/"
    },
    "id": "08720d2c",
    "outputId": "5cb7c69e-0652-415c-8c5a-7aab23316a8c"
   },
   "outputs": [],
   "source": [
    "from sklearn.tree import DecisionTreeClassifier\n",
    "classifier = DecisionTreeClassifier(criterion = 'entropy', random_state = 0)\n",
    "classifier.fit(x_train, y_train)"
   ]
  },
  {
   "cell_type": "code",
   "execution_count": null,
   "id": "ec5d37c0",
   "metadata": {
    "colab": {
     "base_uri": "https://localhost:8080/"
    },
    "id": "ec5d37c0",
    "outputId": "e93c6d25-dca2-450e-b5e5-a9f77b197ea9"
   },
   "outputs": [],
   "source": [
    "y_pred = classifier.predict(x_test)\n",
    "cm = confusion_matrix(y_test, y_pred)\n",
    "print(cm)\n",
    "accuracy_score(y_test, y_pred)"
   ]
  },
  {
   "cell_type": "code",
   "execution_count": null,
   "id": "78b03f08",
   "metadata": {
    "colab": {
     "base_uri": "https://localhost:8080/",
     "height": 206
    },
    "id": "78b03f08",
    "outputId": "2378c54d-4f6a-4e9e-baa3-ee9567763c4a"
   },
   "outputs": [],
   "source": [
    "dataout = classification_report(y_test, y_pred, output_dict=True)\n",
    "dataout = pd.DataFrame(dataout).transpose()\n",
    "dataout"
   ]
  },
  {
   "cell_type": "code",
   "execution_count": null,
   "id": "4jFbx-W-3Xad",
   "metadata": {
    "colab": {
     "base_uri": "https://localhost:8080/"
    },
    "id": "4jFbx-W-3Xad",
    "outputId": "51290a79-f218-4e03-c1a8-123793f4a69d"
   },
   "outputs": [],
   "source": [
    "classifier.fit(x1_train, y1_train)"
   ]
  },
  {
   "cell_type": "code",
   "execution_count": null,
   "id": "1K5OwAgL3Xd8",
   "metadata": {
    "colab": {
     "base_uri": "https://localhost:8080/"
    },
    "id": "1K5OwAgL3Xd8",
    "outputId": "7bb5a6c5-75fd-416c-d4ce-07229db17283"
   },
   "outputs": [],
   "source": [
    "y_pred = classifier.predict(x1_test)\n",
    "cm = confusion_matrix(y1_test, y_pred)\n",
    "print(cm)\n",
    "accuracy_score(y1_test, y_pred)"
   ]
  },
  {
   "cell_type": "code",
   "execution_count": null,
   "id": "lozNREFx3Xt0",
   "metadata": {
    "colab": {
     "base_uri": "https://localhost:8080/",
     "height": 206
    },
    "id": "lozNREFx3Xt0",
    "outputId": "76826a6d-4def-4e8a-dad7-8109e2481906"
   },
   "outputs": [],
   "source": [
    "dataout = classification_report(y1_test, y_pred, output_dict=True)\n",
    "dataout = pd.DataFrame(dataout).transpose()\n",
    "dataout"
   ]
  },
  {
   "cell_type": "code",
   "execution_count": null,
   "id": "QPrWs_DW3X6_",
   "metadata": {
    "colab": {
     "base_uri": "https://localhost:8080/"
    },
    "id": "QPrWs_DW3X6_",
    "outputId": "fa70a5b4-f22a-4721-e3c8-4e4e6c3bd7bc"
   },
   "outputs": [],
   "source": [
    "classifier.fit(x2_train, y2_train)"
   ]
  },
  {
   "cell_type": "code",
   "execution_count": null,
   "id": "HmUlfhqn3YAA",
   "metadata": {
    "colab": {
     "base_uri": "https://localhost:8080/"
    },
    "id": "HmUlfhqn3YAA",
    "outputId": "2b1c64be-4bc3-460f-eb0b-10dde96e32db"
   },
   "outputs": [],
   "source": [
    "y_pred = classifier.predict(x2_test)\n",
    "cm = confusion_matrix(y2_test, y_pred)\n",
    "print(cm)\n",
    "accuracy_score(y2_test, y_pred)"
   ]
  },
  {
   "cell_type": "code",
   "execution_count": null,
   "id": "9NvaRP0H3YEm",
   "metadata": {
    "colab": {
     "base_uri": "https://localhost:8080/",
     "height": 206
    },
    "id": "9NvaRP0H3YEm",
    "outputId": "d2bc9ba1-44b8-4b48-fad1-b5e69b34989a"
   },
   "outputs": [],
   "source": [
    "dataout = classification_report(y2_test, y_pred, output_dict=True)\n",
    "dataout = pd.DataFrame(dataout).transpose()\n",
    "dataout"
   ]
  },
  {
   "cell_type": "code",
   "execution_count": null,
   "id": "44kq_Hm4Le_F",
   "metadata": {
    "colab": {
     "base_uri": "https://localhost:8080/"
    },
    "id": "44kq_Hm4Le_F",
    "outputId": "7721ca9c-5ff7-4f01-e8de-0a91e9efc29e"
   },
   "outputs": [],
   "source": [
    "classifier.fit(x3_train, y3_train)"
   ]
  },
  {
   "cell_type": "code",
   "execution_count": null,
   "id": "yuRaE3a_LfF7",
   "metadata": {
    "colab": {
     "base_uri": "https://localhost:8080/"
    },
    "id": "yuRaE3a_LfF7",
    "outputId": "477ffd44-935a-4993-d2bc-567ca6abda42"
   },
   "outputs": [],
   "source": [
    "y_pred = classifier.predict(x3_test)\n",
    "cm = confusion_matrix(y3_test, y_pred)\n",
    "print(cm)\n",
    "accuracy_score(y3_test, y_pred)"
   ]
  },
  {
   "cell_type": "code",
   "execution_count": 3,
   "id": "lWSGcHpPLfJW",
   "metadata": {
    "colab": {
     "base_uri": "https://localhost:8080/",
     "height": 206
    },
    "id": "lWSGcHpPLfJW",
    "outputId": "435a0514-2551-4c05-b523-a0a8b8a6b701"
   },
   "outputs": [
    {
     "ename": "NameError",
     "evalue": "name 'classification_report' is not defined",
     "output_type": "error",
     "traceback": [
      "\u001b[1;31m---------------------------------------------------------------------------\u001b[0m",
      "\u001b[1;31mNameError\u001b[0m                                 Traceback (most recent call last)",
      "Input \u001b[1;32mIn [3]\u001b[0m, in \u001b[0;36m<cell line: 1>\u001b[1;34m()\u001b[0m\n\u001b[1;32m----> 1\u001b[0m dataout \u001b[38;5;241m=\u001b[39m \u001b[43mclassification_report\u001b[49m(y3_test, y_pred, output_dict\u001b[38;5;241m=\u001b[39m\u001b[38;5;28;01mTrue\u001b[39;00m)\n\u001b[0;32m      2\u001b[0m dataout \u001b[38;5;241m=\u001b[39m pd\u001b[38;5;241m.\u001b[39mDataFrame(dataout)\u001b[38;5;241m.\u001b[39mtranspose()\n\u001b[0;32m      3\u001b[0m dataout\n",
      "\u001b[1;31mNameError\u001b[0m: name 'classification_report' is not defined"
     ]
    }
   ],
   "source": [
    "dataout = classification_report(y3_test, y_pred, output_dict=True)\n",
    "dataout = pd.DataFrame(dataout).transpose()\n",
    "dataout"
   ]
  },
  {
   "cell_type": "code",
   "execution_count": null,
   "id": "RLtpUbVJLfXl",
   "metadata": {
    "colab": {
     "base_uri": "https://localhost:8080/"
    },
    "id": "RLtpUbVJLfXl",
    "outputId": "40a11512-8c98-48a7-d1ae-1737b5ed3571"
   },
   "outputs": [],
   "source": [
    "classifier.fit(x4_train, y4_train)"
   ]
  },
  {
   "cell_type": "code",
   "execution_count": null,
   "id": "buDkwUJKLfbS",
   "metadata": {
    "colab": {
     "base_uri": "https://localhost:8080/"
    },
    "id": "buDkwUJKLfbS",
    "outputId": "0af13db7-293e-4de1-84aa-9c431dbe43c8"
   },
   "outputs": [],
   "source": [
    "y_pred = classifier.predict(x4_test)\n",
    "cm = confusion_matrix(y4_test, y_pred)\n",
    "print(cm)\n",
    "accuracy_score(y4_test, y_pred)"
   ]
  },
  {
   "cell_type": "code",
   "execution_count": null,
   "id": "Kp6d1dLCLfe1",
   "metadata": {
    "colab": {
     "base_uri": "https://localhost:8080/",
     "height": 206
    },
    "id": "Kp6d1dLCLfe1",
    "outputId": "fa332e79-c076-40c4-ff8f-991c87944af8"
   },
   "outputs": [],
   "source": [
    "dataout = classification_report(y4_test, y_pred, output_dict=True)\n",
    "dataout = pd.DataFrame(dataout).transpose()\n",
    "dataout"
   ]
  },
  {
   "cell_type": "markdown",
   "id": "2a826448",
   "metadata": {
    "id": "2a826448"
   },
   "source": [
    "### 2.6.4 Random Forest"
   ]
  },
  {
   "cell_type": "code",
   "execution_count": null,
   "id": "0e97fd9b",
   "metadata": {
    "colab": {
     "base_uri": "https://localhost:8080/"
    },
    "id": "0e97fd9b",
    "outputId": "bd58ca8b-4670-41e1-bbd0-993d3b4f6326"
   },
   "outputs": [],
   "source": [
    "from sklearn.ensemble import RandomForestClassifier\n",
    "classifier = RandomForestClassifier(n_estimators = 70, criterion = 'entropy', random_state = 0)\n",
    "classifier.fit(x_train, y_train)"
   ]
  },
  {
   "cell_type": "code",
   "execution_count": null,
   "id": "7423ee41",
   "metadata": {
    "colab": {
     "base_uri": "https://localhost:8080/"
    },
    "id": "7423ee41",
    "outputId": "5477d83d-69ad-4133-cc7b-72d69fcdac4e"
   },
   "outputs": [],
   "source": [
    "y_pred = classifier.predict(x_test)\n",
    "cm = confusion_matrix(y_test, y_pred)\n",
    "print(cm)\n",
    "accuracy_score(y_test, y_pred)"
   ]
  },
  {
   "cell_type": "code",
   "execution_count": null,
   "id": "40f0f0fc",
   "metadata": {
    "colab": {
     "base_uri": "https://localhost:8080/",
     "height": 206
    },
    "id": "40f0f0fc",
    "outputId": "be37d9c3-05d9-45a0-8cc7-eb62f839871d"
   },
   "outputs": [],
   "source": [
    "dataout = classification_report(y_test, y_pred, output_dict=True)\n",
    "dataout = pd.DataFrame(dataout).transpose()\n",
    "dataout"
   ]
  },
  {
   "cell_type": "code",
   "execution_count": null,
   "id": "TFXRRzF94nT2",
   "metadata": {
    "colab": {
     "base_uri": "https://localhost:8080/"
    },
    "id": "TFXRRzF94nT2",
    "outputId": "8de4d0ef-3c50-43c5-8f9a-b695a183ca35"
   },
   "outputs": [],
   "source": [
    "classifier.fit(x1_train, y1_train)"
   ]
  },
  {
   "cell_type": "code",
   "execution_count": null,
   "id": "VmeCw4-I4nWQ",
   "metadata": {
    "colab": {
     "base_uri": "https://localhost:8080/"
    },
    "id": "VmeCw4-I4nWQ",
    "outputId": "7e089204-36ab-4724-f943-baa7f5b2f692"
   },
   "outputs": [],
   "source": [
    "y_pred = classifier.predict(x1_test)\n",
    "cm = confusion_matrix(y1_test, y_pred)\n",
    "print(cm)\n",
    "accuracy_score(y1_test, y_pred)"
   ]
  },
  {
   "cell_type": "code",
   "execution_count": null,
   "id": "PPQMwg8o4nZ0",
   "metadata": {
    "colab": {
     "base_uri": "https://localhost:8080/",
     "height": 206
    },
    "id": "PPQMwg8o4nZ0",
    "outputId": "ece9a2a5-4e97-4c66-c113-12c82fcb484b"
   },
   "outputs": [],
   "source": [
    "dataout = classification_report(y1_test, y_pred, output_dict=True)\n",
    "dataout = pd.DataFrame(dataout).transpose()\n",
    "dataout"
   ]
  },
  {
   "cell_type": "code",
   "execution_count": null,
   "id": "MQqlWRE_4nph",
   "metadata": {
    "colab": {
     "base_uri": "https://localhost:8080/"
    },
    "id": "MQqlWRE_4nph",
    "outputId": "e2242de2-bfdd-41a2-90e1-1a4228a8485a"
   },
   "outputs": [],
   "source": [
    "classifier.fit(x2_train, y2_train)"
   ]
  },
  {
   "cell_type": "code",
   "execution_count": null,
   "id": "gzwOQHyD4nrx",
   "metadata": {
    "colab": {
     "base_uri": "https://localhost:8080/"
    },
    "id": "gzwOQHyD4nrx",
    "outputId": "6b8ace38-2ef2-4ac8-c993-01da7f3fd4db"
   },
   "outputs": [],
   "source": [
    "y_pred = classifier.predict(x2_test)\n",
    "cm = confusion_matrix(y2_test, y_pred)\n",
    "print(cm)\n",
    "accuracy_score(y2_test, y_pred)"
   ]
  },
  {
   "cell_type": "code",
   "execution_count": null,
   "id": "CRCuUw6t4nvn",
   "metadata": {
    "colab": {
     "base_uri": "https://localhost:8080/",
     "height": 206
    },
    "id": "CRCuUw6t4nvn",
    "outputId": "e3f423bf-5538-4693-c326-5b51cbec1c83"
   },
   "outputs": [],
   "source": [
    "dataout = classification_report(y2_test, y_pred, output_dict=True)\n",
    "dataout = pd.DataFrame(dataout).transpose()\n",
    "dataout"
   ]
  },
  {
   "cell_type": "code",
   "execution_count": null,
   "id": "0kZKec7WLrN1",
   "metadata": {
    "colab": {
     "base_uri": "https://localhost:8080/"
    },
    "id": "0kZKec7WLrN1",
    "outputId": "e71243a3-0c7d-490e-f868-c095f4889b2f"
   },
   "outputs": [],
   "source": [
    "classifier.fit(x3_train, y3_train)"
   ]
  },
  {
   "cell_type": "code",
   "execution_count": null,
   "id": "XiTdnwcULrRh",
   "metadata": {
    "colab": {
     "base_uri": "https://localhost:8080/"
    },
    "id": "XiTdnwcULrRh",
    "outputId": "d0da1c8d-4a88-4a7c-8671-65d4dcaa951f"
   },
   "outputs": [],
   "source": [
    "y_pred = classifier.predict(x3_test)\n",
    "cm = confusion_matrix(y3_test, y_pred)\n",
    "print(cm)\n",
    "accuracy_score(y3_test, y_pred)"
   ]
  },
  {
   "cell_type": "code",
   "execution_count": null,
   "id": "YWKAOMPYLrVE",
   "metadata": {
    "colab": {
     "base_uri": "https://localhost:8080/",
     "height": 206
    },
    "id": "YWKAOMPYLrVE",
    "outputId": "e5e8c9b9-fb3e-4a8e-e755-6b392c701056"
   },
   "outputs": [],
   "source": [
    "dataout = classification_report(y3_test, y_pred, output_dict=True)\n",
    "dataout = pd.DataFrame(dataout).transpose()\n",
    "dataout"
   ]
  },
  {
   "cell_type": "code",
   "execution_count": null,
   "id": "hZZ31MF5LrmI",
   "metadata": {
    "colab": {
     "base_uri": "https://localhost:8080/"
    },
    "id": "hZZ31MF5LrmI",
    "outputId": "eb12ee39-fef4-4456-93ec-5e9f46a15183"
   },
   "outputs": [],
   "source": [
    "classifier.fit(x4_train, y4_train)"
   ]
  },
  {
   "cell_type": "code",
   "execution_count": null,
   "id": "_lvx96mYLrrM",
   "metadata": {
    "colab": {
     "base_uri": "https://localhost:8080/"
    },
    "id": "_lvx96mYLrrM",
    "outputId": "ad363f60-7aa0-4417-82f1-44b90d52537f"
   },
   "outputs": [],
   "source": [
    "y_pred = classifier.predict(x4_test)\n",
    "cm = confusion_matrix(y4_test, y_pred)\n",
    "print(cm)\n",
    "accuracy_score(y4_test, y_pred)"
   ]
  },
  {
   "cell_type": "code",
   "execution_count": null,
   "id": "jlNdrrICLru2",
   "metadata": {
    "colab": {
     "base_uri": "https://localhost:8080/",
     "height": 206
    },
    "id": "jlNdrrICLru2",
    "outputId": "b93029ff-362d-4d60-a764-3090a9698273"
   },
   "outputs": [],
   "source": [
    "dataout = classification_report(y4_test, y_pred, output_dict=True)\n",
    "dataout = pd.DataFrame(dataout).transpose()\n",
    "dataout"
   ]
  },
  {
   "cell_type": "markdown",
   "id": "e74d5a52",
   "metadata": {
    "id": "e74d5a52"
   },
   "source": [
    "### 2.6.5 SVM Poly"
   ]
  },
  {
   "cell_type": "code",
   "execution_count": null,
   "id": "34c13492",
   "metadata": {
    "colab": {
     "base_uri": "https://localhost:8080/"
    },
    "id": "34c13492",
    "outputId": "736a6825-6112-449f-f596-bf15bce781fc"
   },
   "outputs": [],
   "source": [
    "from sklearn.svm import SVC\n",
    "classifier = SVC(kernel='poly')\n",
    "classifier.fit(x_train,y_train)"
   ]
  },
  {
   "cell_type": "code",
   "execution_count": null,
   "id": "0ba5bfef",
   "metadata": {
    "colab": {
     "base_uri": "https://localhost:8080/"
    },
    "id": "0ba5bfef",
    "outputId": "21da00d2-ff95-4862-c485-45099d1a45a2"
   },
   "outputs": [],
   "source": [
    "y_pred = classifier.predict(x_test)\n",
    "cm = confusion_matrix(y_test, y_pred)\n",
    "print(cm)\n",
    "accuracy_score(y_test, y_pred)"
   ]
  },
  {
   "cell_type": "code",
   "execution_count": null,
   "id": "8e34eab9",
   "metadata": {
    "colab": {
     "base_uri": "https://localhost:8080/",
     "height": 206
    },
    "id": "8e34eab9",
    "outputId": "4efed903-45c8-4f27-d0ef-ba3f18638d50"
   },
   "outputs": [],
   "source": [
    "dataout = classification_report(y_test, y_pred, output_dict=True)\n",
    "dataout = pd.DataFrame(dataout).transpose()\n",
    "dataout"
   ]
  },
  {
   "cell_type": "code",
   "execution_count": null,
   "id": "H1l-GksT5Vew",
   "metadata": {
    "colab": {
     "base_uri": "https://localhost:8080/"
    },
    "id": "H1l-GksT5Vew",
    "outputId": "03ef95cd-d492-4339-9abe-4697ee72de29"
   },
   "outputs": [],
   "source": [
    "classifier.fit(x1_train, y1_train)"
   ]
  },
  {
   "cell_type": "code",
   "execution_count": null,
   "id": "dQZsSDqd5Vnu",
   "metadata": {
    "colab": {
     "base_uri": "https://localhost:8080/"
    },
    "id": "dQZsSDqd5Vnu",
    "outputId": "f5608720-4aff-4b9c-99df-95e5a7eb3cf0"
   },
   "outputs": [],
   "source": [
    "y_pred = classifier.predict(x1_test)\n",
    "cm = confusion_matrix(y1_test, y_pred)\n",
    "print(cm)\n",
    "accuracy_score(y1_test, y_pred)"
   ]
  },
  {
   "cell_type": "code",
   "execution_count": null,
   "id": "VfhxAo085Vyu",
   "metadata": {
    "colab": {
     "base_uri": "https://localhost:8080/",
     "height": 206
    },
    "id": "VfhxAo085Vyu",
    "outputId": "0b3ac4ce-6d28-4e07-afa8-65bef6ec58d7"
   },
   "outputs": [],
   "source": [
    "dataout = classification_report(y1_test, y_pred, output_dict=True)\n",
    "dataout = pd.DataFrame(dataout).transpose()\n",
    "dataout"
   ]
  },
  {
   "cell_type": "code",
   "execution_count": null,
   "id": "G3yZ8Gfr5V87",
   "metadata": {
    "colab": {
     "base_uri": "https://localhost:8080/"
    },
    "id": "G3yZ8Gfr5V87",
    "outputId": "892366d5-97b0-4198-9e64-6a29dccaf11a"
   },
   "outputs": [],
   "source": [
    "classifier.fit(x2_train, y2_train)"
   ]
  },
  {
   "cell_type": "code",
   "execution_count": null,
   "id": "Sm_kjd0H5WGW",
   "metadata": {
    "colab": {
     "base_uri": "https://localhost:8080/"
    },
    "id": "Sm_kjd0H5WGW",
    "outputId": "12e79709-19a3-4b6c-c47f-c2e28981eff3"
   },
   "outputs": [],
   "source": [
    "y_pred = classifier.predict(x2_test)\n",
    "cm = confusion_matrix(y2_test, y_pred)\n",
    "print(cm)\n",
    "accuracy_score(y2_test, y_pred)"
   ]
  },
  {
   "cell_type": "code",
   "execution_count": null,
   "id": "d4AG9rRq5WPr",
   "metadata": {
    "colab": {
     "base_uri": "https://localhost:8080/",
     "height": 206
    },
    "id": "d4AG9rRq5WPr",
    "outputId": "0a6ee6c7-6e1c-40ce-86b1-c6672d0ee8e0"
   },
   "outputs": [],
   "source": [
    "dataout = classification_report(y2_test, y_pred, output_dict=True)\n",
    "dataout = pd.DataFrame(dataout).transpose()\n",
    "dataout"
   ]
  },
  {
   "cell_type": "code",
   "execution_count": null,
   "id": "dEYGek0hMTTx",
   "metadata": {
    "colab": {
     "base_uri": "https://localhost:8080/"
    },
    "id": "dEYGek0hMTTx",
    "outputId": "c9eee211-6ec4-4634-caa5-721ea3c7c2f6"
   },
   "outputs": [],
   "source": [
    "classifier.fit(x3_train, y3_train)"
   ]
  },
  {
   "cell_type": "code",
   "execution_count": null,
   "id": "snk_1f_yMTXc",
   "metadata": {
    "colab": {
     "base_uri": "https://localhost:8080/"
    },
    "id": "snk_1f_yMTXc",
    "outputId": "569ec61b-c61a-421c-9b60-fcad0c069303"
   },
   "outputs": [],
   "source": [
    "y_pred = classifier.predict(x3_test)\n",
    "cm = confusion_matrix(y3_test, y_pred)\n",
    "print(cm)\n",
    "accuracy_score(y3_test, y_pred)"
   ]
  },
  {
   "cell_type": "code",
   "execution_count": null,
   "id": "-H3hzxQvMTa_",
   "metadata": {
    "colab": {
     "base_uri": "https://localhost:8080/",
     "height": 206
    },
    "id": "-H3hzxQvMTa_",
    "outputId": "e098bd30-2191-491d-d908-dc14bc696b54"
   },
   "outputs": [],
   "source": [
    "dataout = classification_report(y3_test, y_pred, output_dict=True)\n",
    "dataout = pd.DataFrame(dataout).transpose()\n",
    "dataout"
   ]
  },
  {
   "cell_type": "markdown",
   "id": "e619a000",
   "metadata": {
    "id": "e619a000"
   },
   "source": [
    "### 2.6.6 SVM rbf"
   ]
  },
  {
   "cell_type": "code",
   "execution_count": null,
   "id": "a7cced19",
   "metadata": {
    "colab": {
     "base_uri": "https://localhost:8080/"
    },
    "id": "a7cced19",
    "outputId": "cf7ae7ad-71f0-4185-8fcf-c0b66e9e1606"
   },
   "outputs": [],
   "source": [
    "classifier = SVC(kernel='rbf',C=2,gamma=1)\n",
    "classifier.fit(x_train,y_train)"
   ]
  },
  {
   "cell_type": "code",
   "execution_count": null,
   "id": "19d70a8e",
   "metadata": {
    "colab": {
     "base_uri": "https://localhost:8080/"
    },
    "id": "19d70a8e",
    "outputId": "4aa66b1c-ce82-46ee-ac9f-3a89ec09aae7"
   },
   "outputs": [],
   "source": [
    "y_pred = classifier.predict(x_test)\n",
    "cm = confusion_matrix(y_test, y_pred)\n",
    "print(cm)\n",
    "accuracy_score(y_test, y_pred)"
   ]
  },
  {
   "cell_type": "code",
   "execution_count": null,
   "id": "0b117a79",
   "metadata": {
    "colab": {
     "base_uri": "https://localhost:8080/",
     "height": 206
    },
    "id": "0b117a79",
    "outputId": "32cd324d-8eee-4267-d78b-e2c5fba29592"
   },
   "outputs": [],
   "source": [
    "dataout = classification_report(y_test, y_pred, output_dict=True)\n",
    "dataout = pd.DataFrame(dataout).transpose()\n",
    "dataout"
   ]
  },
  {
   "cell_type": "code",
   "execution_count": null,
   "id": "dbcd2962",
   "metadata": {
    "colab": {
     "base_uri": "https://localhost:8080/"
    },
    "id": "dbcd2962",
    "outputId": "e0152498-45db-40fe-f982-5271175edb24"
   },
   "outputs": [],
   "source": [
    "classifier.fit(x1_train, y1_train)"
   ]
  },
  {
   "cell_type": "code",
   "execution_count": null,
   "id": "apVIUx4i5l_1",
   "metadata": {
    "colab": {
     "base_uri": "https://localhost:8080/"
    },
    "id": "apVIUx4i5l_1",
    "outputId": "95ce0ff4-0f01-42ac-af78-5faf41bf3cef"
   },
   "outputs": [],
   "source": [
    "y_pred = classifier.predict(x1_test)\n",
    "cm = confusion_matrix(y1_test, y_pred)\n",
    "print(cm)\n",
    "accuracy_score(y1_test, y_pred)"
   ]
  },
  {
   "cell_type": "code",
   "execution_count": null,
   "id": "5j1FlJRR5mMr",
   "metadata": {
    "colab": {
     "base_uri": "https://localhost:8080/",
     "height": 206
    },
    "id": "5j1FlJRR5mMr",
    "outputId": "c1a8be85-9a93-4463-fb40-1dcd28cb7ff3"
   },
   "outputs": [],
   "source": [
    "dataout = classification_report(y1_test, y_pred, output_dict=True)\n",
    "dataout = pd.DataFrame(dataout).transpose()\n",
    "dataout"
   ]
  },
  {
   "cell_type": "code",
   "execution_count": null,
   "id": "tN1hMf1-5mYa",
   "metadata": {
    "colab": {
     "base_uri": "https://localhost:8080/"
    },
    "id": "tN1hMf1-5mYa",
    "outputId": "9cded981-8d52-4cd3-b11e-8773e18d9ae2"
   },
   "outputs": [],
   "source": [
    "classifier.fit(x2_train, y2_train)"
   ]
  },
  {
   "cell_type": "code",
   "execution_count": null,
   "id": "TZ90rNRp5msp",
   "metadata": {
    "colab": {
     "base_uri": "https://localhost:8080/"
    },
    "id": "TZ90rNRp5msp",
    "outputId": "a88836e5-ea87-453d-a9d3-3acec7a39467"
   },
   "outputs": [],
   "source": [
    "y_pred = classifier.predict(x2_test)\n",
    "cm = confusion_matrix(y2_test, y_pred)\n",
    "print(cm)\n",
    "accuracy_score(y2_test, y_pred)"
   ]
  },
  {
   "cell_type": "code",
   "execution_count": null,
   "id": "UcJEmKfv5nDI",
   "metadata": {
    "colab": {
     "base_uri": "https://localhost:8080/",
     "height": 206
    },
    "id": "UcJEmKfv5nDI",
    "outputId": "2cd7bb48-72e6-428e-f506-a91a0e1cac4d"
   },
   "outputs": [],
   "source": [
    "dataout = classification_report(y2_test, y_pred, output_dict=True)\n",
    "dataout = pd.DataFrame(dataout).transpose()\n",
    "dataout"
   ]
  },
  {
   "cell_type": "code",
   "execution_count": null,
   "id": "_frbxh4EQC6W",
   "metadata": {
    "id": "_frbxh4EQC6W"
   },
   "outputs": [],
   "source": []
  }
 ],
 "metadata": {
  "colab": {
   "provenance": []
  },
  "kernelspec": {
   "display_name": "Python 3 (ipykernel)",
   "language": "python",
   "name": "python3"
  },
  "language_info": {
   "codemirror_mode": {
    "name": "ipython",
    "version": 3
   },
   "file_extension": ".py",
   "mimetype": "text/x-python",
   "name": "python",
   "nbconvert_exporter": "python",
   "pygments_lexer": "ipython3",
   "version": "3.9.12"
  }
 },
 "nbformat": 4,
 "nbformat_minor": 5
}
