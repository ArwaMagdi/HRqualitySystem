{
 "cells": [
  {
   "cell_type": "markdown",
   "id": "c04ec3b8",
   "metadata": {
    "id": "c04ec3b8"
   },
   "source": [
    "# 1. Employee attirtion "
   ]
  },
  {
   "cell_type": "markdown",
   "id": "bc311685",
   "metadata": {
    "id": "bc311685"
   },
   "source": [
    "### 1.1 Importing modules and EDA"
   ]
  },
  {
   "cell_type": "code",
   "execution_count": 1,
   "id": "d52f68d9",
   "metadata": {
    "id": "d52f68d9"
   },
   "outputs": [
    {
     "ename": "FileNotFoundError",
     "evalue": "[Errno 2] No such file or directory: 'employee_attrition_train.csv'",
     "output_type": "error",
     "traceback": [
      "\u001b[1;31m---------------------------------------------------------------------------\u001b[0m",
      "\u001b[1;31mFileNotFoundError\u001b[0m                         Traceback (most recent call last)",
      "Input \u001b[1;32mIn [1]\u001b[0m, in \u001b[0;36m<cell line: 6>\u001b[1;34m()\u001b[0m\n\u001b[0;32m      4\u001b[0m \u001b[38;5;28;01mimport\u001b[39;00m \u001b[38;5;21;01mmatplotlib\u001b[39;00m\u001b[38;5;21;01m.\u001b[39;00m\u001b[38;5;21;01mpyplot\u001b[39;00m \u001b[38;5;28;01mas\u001b[39;00m \u001b[38;5;21;01mplt\u001b[39;00m\n\u001b[0;32m      5\u001b[0m \u001b[38;5;28;01mfrom\u001b[39;00m \u001b[38;5;21;01msklearn\u001b[39;00m\u001b[38;5;21;01m.\u001b[39;00m\u001b[38;5;21;01mpreprocessing\u001b[39;00m \u001b[38;5;28;01mimport\u001b[39;00m LabelEncoder\n\u001b[1;32m----> 6\u001b[0m train\u001b[38;5;241m=\u001b[39m\u001b[43mpd\u001b[49m\u001b[38;5;241;43m.\u001b[39;49m\u001b[43mread_csv\u001b[49m\u001b[43m(\u001b[49m\u001b[38;5;124;43m\"\u001b[39;49m\u001b[38;5;124;43memployee_attrition_train.csv\u001b[39;49m\u001b[38;5;124;43m\"\u001b[39;49m\u001b[43m)\u001b[49m\n",
      "File \u001b[1;32mD:\\Anaconda\\lib\\site-packages\\pandas\\util\\_decorators.py:311\u001b[0m, in \u001b[0;36mdeprecate_nonkeyword_arguments.<locals>.decorate.<locals>.wrapper\u001b[1;34m(*args, **kwargs)\u001b[0m\n\u001b[0;32m    305\u001b[0m \u001b[38;5;28;01mif\u001b[39;00m \u001b[38;5;28mlen\u001b[39m(args) \u001b[38;5;241m>\u001b[39m num_allow_args:\n\u001b[0;32m    306\u001b[0m     warnings\u001b[38;5;241m.\u001b[39mwarn(\n\u001b[0;32m    307\u001b[0m         msg\u001b[38;5;241m.\u001b[39mformat(arguments\u001b[38;5;241m=\u001b[39marguments),\n\u001b[0;32m    308\u001b[0m         \u001b[38;5;167;01mFutureWarning\u001b[39;00m,\n\u001b[0;32m    309\u001b[0m         stacklevel\u001b[38;5;241m=\u001b[39mstacklevel,\n\u001b[0;32m    310\u001b[0m     )\n\u001b[1;32m--> 311\u001b[0m \u001b[38;5;28;01mreturn\u001b[39;00m func(\u001b[38;5;241m*\u001b[39margs, \u001b[38;5;241m*\u001b[39m\u001b[38;5;241m*\u001b[39mkwargs)\n",
      "File \u001b[1;32mD:\\Anaconda\\lib\\site-packages\\pandas\\io\\parsers\\readers.py:680\u001b[0m, in \u001b[0;36mread_csv\u001b[1;34m(filepath_or_buffer, sep, delimiter, header, names, index_col, usecols, squeeze, prefix, mangle_dupe_cols, dtype, engine, converters, true_values, false_values, skipinitialspace, skiprows, skipfooter, nrows, na_values, keep_default_na, na_filter, verbose, skip_blank_lines, parse_dates, infer_datetime_format, keep_date_col, date_parser, dayfirst, cache_dates, iterator, chunksize, compression, thousands, decimal, lineterminator, quotechar, quoting, doublequote, escapechar, comment, encoding, encoding_errors, dialect, error_bad_lines, warn_bad_lines, on_bad_lines, delim_whitespace, low_memory, memory_map, float_precision, storage_options)\u001b[0m\n\u001b[0;32m    665\u001b[0m kwds_defaults \u001b[38;5;241m=\u001b[39m _refine_defaults_read(\n\u001b[0;32m    666\u001b[0m     dialect,\n\u001b[0;32m    667\u001b[0m     delimiter,\n\u001b[1;32m   (...)\u001b[0m\n\u001b[0;32m    676\u001b[0m     defaults\u001b[38;5;241m=\u001b[39m{\u001b[38;5;124m\"\u001b[39m\u001b[38;5;124mdelimiter\u001b[39m\u001b[38;5;124m\"\u001b[39m: \u001b[38;5;124m\"\u001b[39m\u001b[38;5;124m,\u001b[39m\u001b[38;5;124m\"\u001b[39m},\n\u001b[0;32m    677\u001b[0m )\n\u001b[0;32m    678\u001b[0m kwds\u001b[38;5;241m.\u001b[39mupdate(kwds_defaults)\n\u001b[1;32m--> 680\u001b[0m \u001b[38;5;28;01mreturn\u001b[39;00m \u001b[43m_read\u001b[49m\u001b[43m(\u001b[49m\u001b[43mfilepath_or_buffer\u001b[49m\u001b[43m,\u001b[49m\u001b[43m \u001b[49m\u001b[43mkwds\u001b[49m\u001b[43m)\u001b[49m\n",
      "File \u001b[1;32mD:\\Anaconda\\lib\\site-packages\\pandas\\io\\parsers\\readers.py:575\u001b[0m, in \u001b[0;36m_read\u001b[1;34m(filepath_or_buffer, kwds)\u001b[0m\n\u001b[0;32m    572\u001b[0m _validate_names(kwds\u001b[38;5;241m.\u001b[39mget(\u001b[38;5;124m\"\u001b[39m\u001b[38;5;124mnames\u001b[39m\u001b[38;5;124m\"\u001b[39m, \u001b[38;5;28;01mNone\u001b[39;00m))\n\u001b[0;32m    574\u001b[0m \u001b[38;5;66;03m# Create the parser.\u001b[39;00m\n\u001b[1;32m--> 575\u001b[0m parser \u001b[38;5;241m=\u001b[39m TextFileReader(filepath_or_buffer, \u001b[38;5;241m*\u001b[39m\u001b[38;5;241m*\u001b[39mkwds)\n\u001b[0;32m    577\u001b[0m \u001b[38;5;28;01mif\u001b[39;00m chunksize \u001b[38;5;129;01mor\u001b[39;00m iterator:\n\u001b[0;32m    578\u001b[0m     \u001b[38;5;28;01mreturn\u001b[39;00m parser\n",
      "File \u001b[1;32mD:\\Anaconda\\lib\\site-packages\\pandas\\io\\parsers\\readers.py:933\u001b[0m, in \u001b[0;36mTextFileReader.__init__\u001b[1;34m(self, f, engine, **kwds)\u001b[0m\n\u001b[0;32m    930\u001b[0m     \u001b[38;5;28mself\u001b[39m\u001b[38;5;241m.\u001b[39moptions[\u001b[38;5;124m\"\u001b[39m\u001b[38;5;124mhas_index_names\u001b[39m\u001b[38;5;124m\"\u001b[39m] \u001b[38;5;241m=\u001b[39m kwds[\u001b[38;5;124m\"\u001b[39m\u001b[38;5;124mhas_index_names\u001b[39m\u001b[38;5;124m\"\u001b[39m]\n\u001b[0;32m    932\u001b[0m \u001b[38;5;28mself\u001b[39m\u001b[38;5;241m.\u001b[39mhandles: IOHandles \u001b[38;5;241m|\u001b[39m \u001b[38;5;28;01mNone\u001b[39;00m \u001b[38;5;241m=\u001b[39m \u001b[38;5;28;01mNone\u001b[39;00m\n\u001b[1;32m--> 933\u001b[0m \u001b[38;5;28mself\u001b[39m\u001b[38;5;241m.\u001b[39m_engine \u001b[38;5;241m=\u001b[39m \u001b[38;5;28;43mself\u001b[39;49m\u001b[38;5;241;43m.\u001b[39;49m\u001b[43m_make_engine\u001b[49m\u001b[43m(\u001b[49m\u001b[43mf\u001b[49m\u001b[43m,\u001b[49m\u001b[43m \u001b[49m\u001b[38;5;28;43mself\u001b[39;49m\u001b[38;5;241;43m.\u001b[39;49m\u001b[43mengine\u001b[49m\u001b[43m)\u001b[49m\n",
      "File \u001b[1;32mD:\\Anaconda\\lib\\site-packages\\pandas\\io\\parsers\\readers.py:1217\u001b[0m, in \u001b[0;36mTextFileReader._make_engine\u001b[1;34m(self, f, engine)\u001b[0m\n\u001b[0;32m   1213\u001b[0m     mode \u001b[38;5;241m=\u001b[39m \u001b[38;5;124m\"\u001b[39m\u001b[38;5;124mrb\u001b[39m\u001b[38;5;124m\"\u001b[39m\n\u001b[0;32m   1214\u001b[0m \u001b[38;5;66;03m# error: No overload variant of \"get_handle\" matches argument types\u001b[39;00m\n\u001b[0;32m   1215\u001b[0m \u001b[38;5;66;03m# \"Union[str, PathLike[str], ReadCsvBuffer[bytes], ReadCsvBuffer[str]]\"\u001b[39;00m\n\u001b[0;32m   1216\u001b[0m \u001b[38;5;66;03m# , \"str\", \"bool\", \"Any\", \"Any\", \"Any\", \"Any\", \"Any\"\u001b[39;00m\n\u001b[1;32m-> 1217\u001b[0m \u001b[38;5;28mself\u001b[39m\u001b[38;5;241m.\u001b[39mhandles \u001b[38;5;241m=\u001b[39m \u001b[43mget_handle\u001b[49m\u001b[43m(\u001b[49m\u001b[43m  \u001b[49m\u001b[38;5;66;43;03m# type: ignore[call-overload]\u001b[39;49;00m\n\u001b[0;32m   1218\u001b[0m \u001b[43m    \u001b[49m\u001b[43mf\u001b[49m\u001b[43m,\u001b[49m\n\u001b[0;32m   1219\u001b[0m \u001b[43m    \u001b[49m\u001b[43mmode\u001b[49m\u001b[43m,\u001b[49m\n\u001b[0;32m   1220\u001b[0m \u001b[43m    \u001b[49m\u001b[43mencoding\u001b[49m\u001b[38;5;241;43m=\u001b[39;49m\u001b[38;5;28;43mself\u001b[39;49m\u001b[38;5;241;43m.\u001b[39;49m\u001b[43moptions\u001b[49m\u001b[38;5;241;43m.\u001b[39;49m\u001b[43mget\u001b[49m\u001b[43m(\u001b[49m\u001b[38;5;124;43m\"\u001b[39;49m\u001b[38;5;124;43mencoding\u001b[39;49m\u001b[38;5;124;43m\"\u001b[39;49m\u001b[43m,\u001b[49m\u001b[43m \u001b[49m\u001b[38;5;28;43;01mNone\u001b[39;49;00m\u001b[43m)\u001b[49m\u001b[43m,\u001b[49m\n\u001b[0;32m   1221\u001b[0m \u001b[43m    \u001b[49m\u001b[43mcompression\u001b[49m\u001b[38;5;241;43m=\u001b[39;49m\u001b[38;5;28;43mself\u001b[39;49m\u001b[38;5;241;43m.\u001b[39;49m\u001b[43moptions\u001b[49m\u001b[38;5;241;43m.\u001b[39;49m\u001b[43mget\u001b[49m\u001b[43m(\u001b[49m\u001b[38;5;124;43m\"\u001b[39;49m\u001b[38;5;124;43mcompression\u001b[39;49m\u001b[38;5;124;43m\"\u001b[39;49m\u001b[43m,\u001b[49m\u001b[43m \u001b[49m\u001b[38;5;28;43;01mNone\u001b[39;49;00m\u001b[43m)\u001b[49m\u001b[43m,\u001b[49m\n\u001b[0;32m   1222\u001b[0m \u001b[43m    \u001b[49m\u001b[43mmemory_map\u001b[49m\u001b[38;5;241;43m=\u001b[39;49m\u001b[38;5;28;43mself\u001b[39;49m\u001b[38;5;241;43m.\u001b[39;49m\u001b[43moptions\u001b[49m\u001b[38;5;241;43m.\u001b[39;49m\u001b[43mget\u001b[49m\u001b[43m(\u001b[49m\u001b[38;5;124;43m\"\u001b[39;49m\u001b[38;5;124;43mmemory_map\u001b[39;49m\u001b[38;5;124;43m\"\u001b[39;49m\u001b[43m,\u001b[49m\u001b[43m \u001b[49m\u001b[38;5;28;43;01mFalse\u001b[39;49;00m\u001b[43m)\u001b[49m\u001b[43m,\u001b[49m\n\u001b[0;32m   1223\u001b[0m \u001b[43m    \u001b[49m\u001b[43mis_text\u001b[49m\u001b[38;5;241;43m=\u001b[39;49m\u001b[43mis_text\u001b[49m\u001b[43m,\u001b[49m\n\u001b[0;32m   1224\u001b[0m \u001b[43m    \u001b[49m\u001b[43merrors\u001b[49m\u001b[38;5;241;43m=\u001b[39;49m\u001b[38;5;28;43mself\u001b[39;49m\u001b[38;5;241;43m.\u001b[39;49m\u001b[43moptions\u001b[49m\u001b[38;5;241;43m.\u001b[39;49m\u001b[43mget\u001b[49m\u001b[43m(\u001b[49m\u001b[38;5;124;43m\"\u001b[39;49m\u001b[38;5;124;43mencoding_errors\u001b[39;49m\u001b[38;5;124;43m\"\u001b[39;49m\u001b[43m,\u001b[49m\u001b[43m \u001b[49m\u001b[38;5;124;43m\"\u001b[39;49m\u001b[38;5;124;43mstrict\u001b[39;49m\u001b[38;5;124;43m\"\u001b[39;49m\u001b[43m)\u001b[49m\u001b[43m,\u001b[49m\n\u001b[0;32m   1225\u001b[0m \u001b[43m    \u001b[49m\u001b[43mstorage_options\u001b[49m\u001b[38;5;241;43m=\u001b[39;49m\u001b[38;5;28;43mself\u001b[39;49m\u001b[38;5;241;43m.\u001b[39;49m\u001b[43moptions\u001b[49m\u001b[38;5;241;43m.\u001b[39;49m\u001b[43mget\u001b[49m\u001b[43m(\u001b[49m\u001b[38;5;124;43m\"\u001b[39;49m\u001b[38;5;124;43mstorage_options\u001b[39;49m\u001b[38;5;124;43m\"\u001b[39;49m\u001b[43m,\u001b[49m\u001b[43m \u001b[49m\u001b[38;5;28;43;01mNone\u001b[39;49;00m\u001b[43m)\u001b[49m\u001b[43m,\u001b[49m\n\u001b[0;32m   1226\u001b[0m \u001b[43m\u001b[49m\u001b[43m)\u001b[49m\n\u001b[0;32m   1227\u001b[0m \u001b[38;5;28;01massert\u001b[39;00m \u001b[38;5;28mself\u001b[39m\u001b[38;5;241m.\u001b[39mhandles \u001b[38;5;129;01mis\u001b[39;00m \u001b[38;5;129;01mnot\u001b[39;00m \u001b[38;5;28;01mNone\u001b[39;00m\n\u001b[0;32m   1228\u001b[0m f \u001b[38;5;241m=\u001b[39m \u001b[38;5;28mself\u001b[39m\u001b[38;5;241m.\u001b[39mhandles\u001b[38;5;241m.\u001b[39mhandle\n",
      "File \u001b[1;32mD:\\Anaconda\\lib\\site-packages\\pandas\\io\\common.py:789\u001b[0m, in \u001b[0;36mget_handle\u001b[1;34m(path_or_buf, mode, encoding, compression, memory_map, is_text, errors, storage_options)\u001b[0m\n\u001b[0;32m    784\u001b[0m \u001b[38;5;28;01melif\u001b[39;00m \u001b[38;5;28misinstance\u001b[39m(handle, \u001b[38;5;28mstr\u001b[39m):\n\u001b[0;32m    785\u001b[0m     \u001b[38;5;66;03m# Check whether the filename is to be opened in binary mode.\u001b[39;00m\n\u001b[0;32m    786\u001b[0m     \u001b[38;5;66;03m# Binary mode does not support 'encoding' and 'newline'.\u001b[39;00m\n\u001b[0;32m    787\u001b[0m     \u001b[38;5;28;01mif\u001b[39;00m ioargs\u001b[38;5;241m.\u001b[39mencoding \u001b[38;5;129;01mand\u001b[39;00m \u001b[38;5;124m\"\u001b[39m\u001b[38;5;124mb\u001b[39m\u001b[38;5;124m\"\u001b[39m \u001b[38;5;129;01mnot\u001b[39;00m \u001b[38;5;129;01min\u001b[39;00m ioargs\u001b[38;5;241m.\u001b[39mmode:\n\u001b[0;32m    788\u001b[0m         \u001b[38;5;66;03m# Encoding\u001b[39;00m\n\u001b[1;32m--> 789\u001b[0m         handle \u001b[38;5;241m=\u001b[39m \u001b[38;5;28;43mopen\u001b[39;49m\u001b[43m(\u001b[49m\n\u001b[0;32m    790\u001b[0m \u001b[43m            \u001b[49m\u001b[43mhandle\u001b[49m\u001b[43m,\u001b[49m\n\u001b[0;32m    791\u001b[0m \u001b[43m            \u001b[49m\u001b[43mioargs\u001b[49m\u001b[38;5;241;43m.\u001b[39;49m\u001b[43mmode\u001b[49m\u001b[43m,\u001b[49m\n\u001b[0;32m    792\u001b[0m \u001b[43m            \u001b[49m\u001b[43mencoding\u001b[49m\u001b[38;5;241;43m=\u001b[39;49m\u001b[43mioargs\u001b[49m\u001b[38;5;241;43m.\u001b[39;49m\u001b[43mencoding\u001b[49m\u001b[43m,\u001b[49m\n\u001b[0;32m    793\u001b[0m \u001b[43m            \u001b[49m\u001b[43merrors\u001b[49m\u001b[38;5;241;43m=\u001b[39;49m\u001b[43merrors\u001b[49m\u001b[43m,\u001b[49m\n\u001b[0;32m    794\u001b[0m \u001b[43m            \u001b[49m\u001b[43mnewline\u001b[49m\u001b[38;5;241;43m=\u001b[39;49m\u001b[38;5;124;43m\"\u001b[39;49m\u001b[38;5;124;43m\"\u001b[39;49m\u001b[43m,\u001b[49m\n\u001b[0;32m    795\u001b[0m \u001b[43m        \u001b[49m\u001b[43m)\u001b[49m\n\u001b[0;32m    796\u001b[0m     \u001b[38;5;28;01melse\u001b[39;00m:\n\u001b[0;32m    797\u001b[0m         \u001b[38;5;66;03m# Binary mode\u001b[39;00m\n\u001b[0;32m    798\u001b[0m         handle \u001b[38;5;241m=\u001b[39m \u001b[38;5;28mopen\u001b[39m(handle, ioargs\u001b[38;5;241m.\u001b[39mmode)\n",
      "\u001b[1;31mFileNotFoundError\u001b[0m: [Errno 2] No such file or directory: 'employee_attrition_train.csv'"
     ]
    }
   ],
   "source": [
    "import pandas as pd\n",
    "import numpy as np\n",
    "import seaborn as sns\n",
    "import matplotlib.pyplot as plt\n",
    "from sklearn.preprocessing import LabelEncoder\n",
    "train=pd.read_csv(\"employee_attrition_train.csv\")\n"
   ]
  },
  {
   "cell_type": "code",
   "execution_count": null,
   "id": "b682cd5b",
   "metadata": {
    "colab": {
     "base_uri": "https://localhost:8080/",
     "height": 369
    },
    "id": "b682cd5b",
    "outputId": "d4ec4775-4f1c-472b-c05c-5e4d18992250"
   },
   "outputs": [],
   "source": [
    "train.head()"
   ]
  },
  {
   "cell_type": "code",
   "execution_count": null,
   "id": "96760441",
   "metadata": {
    "colab": {
     "base_uri": "https://localhost:8080/"
    },
    "id": "96760441",
    "outputId": "58f4a827-83fb-463a-96b7-61a7e37f7c11"
   },
   "outputs": [],
   "source": [
    "train.info()"
   ]
  },
  {
   "cell_type": "code",
   "execution_count": null,
   "id": "1e20b6e3",
   "metadata": {
    "colab": {
     "base_uri": "https://localhost:8080/",
     "height": 386
    },
    "id": "1e20b6e3",
    "outputId": "513543f6-92c0-4abd-860d-2ea6d451ba6c"
   },
   "outputs": [],
   "source": [
    "sns.displot(data=train, x=\"Age\", hue=\"Attrition\",kind=\"kde\")"
   ]
  },
  {
   "cell_type": "code",
   "execution_count": null,
   "id": "b6204f08",
   "metadata": {
    "colab": {
     "base_uri": "https://localhost:8080/",
     "height": 386
    },
    "id": "b6204f08",
    "outputId": "b13a77a8-d5c0-4206-fdd5-5011d101bbde"
   },
   "outputs": [],
   "source": [
    "sns.displot(data=train, x=\"Age\", hue=\"JobLevel\",kind=\"kde\")"
   ]
  },
  {
   "cell_type": "code",
   "execution_count": null,
   "id": "eb64fffc",
   "metadata": {
    "colab": {
     "base_uri": "https://localhost:8080/",
     "height": 497
    },
    "id": "eb64fffc",
    "outputId": "faa6169b-3e22-4087-8576-1e9fc7a02be1"
   },
   "outputs": [],
   "source": [
    "fig,ax=plt.subplots(figsize = (20,8))\n",
    "sns.countplot(data=train, x=\"EducationField\", hue=\"Attrition\")\n",
    "ax.legend()\n",
    "plt.show()"
   ]
  },
  {
   "cell_type": "code",
   "execution_count": null,
   "id": "bfbd32f2",
   "metadata": {
    "colab": {
     "base_uri": "https://localhost:8080/",
     "height": 466
    },
    "id": "bfbd32f2",
    "outputId": "ecffb1ab-4ba9-408b-bfd6-a7d158bc526c"
   },
   "outputs": [],
   "source": [
    "def func(pct, allvalues):\n",
    "    absolute = int(pct / 100.*np.sum(allvalues))\n",
    "    return \"{:.1f}%\\n({:d})\".format(pct, absolute)\n",
    "fig, ax = plt.subplots(figsize = (12, 8))\n",
    "job = train.EducationField.value_counts()\n",
    "ax.pie(job.values, labels = job.index,  shadow = True,\n",
    "       autopct = lambda pct: func(pct, job.values),\n",
    "       textprops = {'family':'sans-serif', 'fontsize':'x-large', 'fontstyle':'italic', 'fontweight':'heavy'})\n",
    "\n",
    "plt.show()"
   ]
  },
  {
   "cell_type": "code",
   "execution_count": null,
   "id": "d12cda2d",
   "metadata": {
    "id": "d12cda2d"
   },
   "outputs": [],
   "source": [
    "x=train[train[\"Attrition\"]==\"Yes\"]"
   ]
  },
  {
   "cell_type": "code",
   "execution_count": null,
   "id": "67478dcf",
   "metadata": {
    "colab": {
     "base_uri": "https://localhost:8080/",
     "height": 466
    },
    "id": "67478dcf",
    "outputId": "ab064b0c-14f0-4aec-8c24-0627711c2c8b"
   },
   "outputs": [],
   "source": [
    "def func(pct, allvalues):\n",
    "    absolute = int(pct / 100.*np.sum(allvalues))\n",
    "    return \"{:.1f}%\\n({:d})\".format(pct, absolute)\n",
    "fig, ax = plt.subplots(figsize = (12, 8))\n",
    "job = x.EducationField.value_counts()\n",
    "ax.pie(job.values, labels = job.index,  shadow = True,\n",
    "       autopct = lambda pct: func(pct, job.values),\n",
    "       textprops = {'family':'sans-serif', 'fontsize':'x-large', 'fontstyle':'italic', 'fontweight':'heavy'})\n",
    "\n",
    "plt.show()"
   ]
  },
  {
   "cell_type": "code",
   "execution_count": null,
   "id": "97ded829",
   "metadata": {
    "colab": {
     "base_uri": "https://localhost:8080/",
     "height": 386
    },
    "id": "97ded829",
    "outputId": "9e9091db-7667-4b88-ae52-5b905970b5da"
   },
   "outputs": [],
   "source": [
    "sns.displot(data=train, x=\"Age\", hue=\"EducationField\",kind=\"kde\")"
   ]
  },
  {
   "cell_type": "code",
   "execution_count": null,
   "id": "38a081ab",
   "metadata": {
    "colab": {
     "base_uri": "https://localhost:8080/",
     "height": 466
    },
    "id": "38a081ab",
    "outputId": "4ca399dd-7305-49f2-dadc-bd19dfc8538e"
   },
   "outputs": [],
   "source": [
    "fig, ax = plt.subplots(figsize = (12, 8))\n",
    "job = train.JobLevel.value_counts()\n",
    "ax.pie(job.values, labels = job.index,  shadow = True,\n",
    "       autopct = lambda pct: func(pct, job.values),\n",
    "       textprops = {'family':'sans-serif', 'fontsize':'x-large', 'fontstyle':'italic', 'fontweight':'heavy'})\n",
    "\n",
    "plt.show()"
   ]
  },
  {
   "cell_type": "code",
   "execution_count": null,
   "id": "227264f0",
   "metadata": {
    "colab": {
     "base_uri": "https://localhost:8080/",
     "height": 466
    },
    "id": "227264f0",
    "outputId": "0bf26118-689f-4d67-d4aa-40b8c7567b36"
   },
   "outputs": [],
   "source": [
    "fig, ax = plt.subplots(figsize = (12, 8))\n",
    "job = x.JobLevel.value_counts()\n",
    "ax.pie(job.values, labels = job.index,  shadow = True,\n",
    "       autopct = lambda pct: func(pct, job.values),\n",
    "       textprops = {'family':'sans-serif', 'fontsize':'x-large', 'fontstyle':'italic', 'fontweight':'heavy'})\n",
    "\n",
    "plt.show()"
   ]
  },
  {
   "cell_type": "code",
   "execution_count": null,
   "id": "0c0694fe",
   "metadata": {
    "colab": {
     "base_uri": "https://localhost:8080/",
     "height": 386
    },
    "id": "0c0694fe",
    "outputId": "6deab1d7-b2bb-43be-f98c-155458c7dd4a"
   },
   "outputs": [],
   "source": [
    "sns.displot(data=x, x=\"Age\", hue=\"JobLevel\",kind=\"kde\")"
   ]
  },
  {
   "cell_type": "code",
   "execution_count": null,
   "id": "594965f9",
   "metadata": {
    "colab": {
     "base_uri": "https://localhost:8080/",
     "height": 514
    },
    "id": "594965f9",
    "outputId": "90a14a71-223f-403a-eb08-51b42459758c"
   },
   "outputs": [],
   "source": [
    "fig, ax = plt.subplots(figsize = (12, 8))\n",
    "sns.countplot(data=x, x=\"OverTime\", hue=\"JobLevel\")"
   ]
  },
  {
   "cell_type": "code",
   "execution_count": null,
   "id": "2d9ebf76",
   "metadata": {
    "colab": {
     "base_uri": "https://localhost:8080/",
     "height": 386
    },
    "id": "2d9ebf76",
    "outputId": "ec63162b-e68b-4fa0-f105-d9098d04a4f7"
   },
   "outputs": [],
   "source": [
    "sns.displot(data=x, x=\"HourlyRate\", hue=\"JobLevel\",kind=\"kde\")"
   ]
  },
  {
   "cell_type": "code",
   "execution_count": null,
   "id": "3f873292",
   "metadata": {
    "colab": {
     "base_uri": "https://localhost:8080/",
     "height": 386
    },
    "id": "3f873292",
    "outputId": "14b4cadb-cd56-4f15-de3c-5ca6ee9d7afd"
   },
   "outputs": [],
   "source": [
    "sns.displot(data=train, x=\"HourlyRate\", hue=\"JobLevel\",kind=\"kde\")"
   ]
  },
  {
   "cell_type": "code",
   "execution_count": null,
   "id": "c9dff686",
   "metadata": {
    "id": "c9dff686"
   },
   "outputs": [],
   "source": [
    "a=x[x[\"OverTime\"]==\"Yes\"]"
   ]
  },
  {
   "cell_type": "code",
   "execution_count": null,
   "id": "7f30d933",
   "metadata": {
    "colab": {
     "base_uri": "https://localhost:8080/",
     "height": 386
    },
    "id": "7f30d933",
    "outputId": "7e5a2953-e2d4-448e-a6fe-39241670ecd0"
   },
   "outputs": [],
   "source": [
    "sns.displot(data=a, x=\"HourlyRate\", hue=\"JobLevel\",kind=\"kde\")"
   ]
  },
  {
   "cell_type": "markdown",
   "id": "f454701a",
   "metadata": {
    "id": "f454701a"
   },
   "source": [
    " Most of those who tend to be attrited more, are beginners who work overtime because their hourly rate is less than 100"
   ]
  },
  {
   "cell_type": "code",
   "execution_count": null,
   "id": "59332e90",
   "metadata": {
    "colab": {
     "base_uri": "https://localhost:8080/",
     "height": 466
    },
    "id": "59332e90",
    "outputId": "2813b463-29a6-4e2d-cd49-c5304f1eefe3"
   },
   "outputs": [],
   "source": [
    "b=a[a[\"JobLevel\"]==1]\n",
    "fig, ax = plt.subplots(figsize = (12, 8))\n",
    "marital = b.MaritalStatus.value_counts()\n",
    "ax.pie(marital.values, labels = marital.index,  shadow = True,\n",
    "       autopct = lambda pct: func(pct, marital.values),\n",
    "       textprops = {'family':'sans-serif', 'fontsize':'x-large', 'fontstyle':'italic', 'fontweight':'heavy'})\n",
    "\n",
    "plt.show()"
   ]
  },
  {
   "cell_type": "code",
   "execution_count": null,
   "id": "668a7f43",
   "metadata": {
    "colab": {
     "base_uri": "https://localhost:8080/",
     "height": 386
    },
    "id": "668a7f43",
    "outputId": "846a1d43-93e0-4641-e290-deeec54bec43"
   },
   "outputs": [],
   "source": [
    "sns.displot(data=a, x=\"DistanceFromHome\", kind=\"kde\")"
   ]
  },
  {
   "cell_type": "markdown",
   "id": "65bd0d45",
   "metadata": {
    "id": "65bd0d45"
   },
   "source": [
    "## 1.2 Filling Null Values"
   ]
  },
  {
   "cell_type": "code",
   "execution_count": null,
   "id": "80ac396c",
   "metadata": {
    "colab": {
     "base_uri": "https://localhost:8080/"
    },
    "id": "80ac396c",
    "outputId": "85f1e79f-5c4a-408e-b963-956682f2638a"
   },
   "outputs": [],
   "source": [
    "train.isnull().sum() "
   ]
  },
  {
   "cell_type": "code",
   "execution_count": null,
   "id": "d9784f39",
   "metadata": {
    "id": "d9784f39"
   },
   "outputs": [],
   "source": [
    "train= train.dropna()"
   ]
  },
  {
   "cell_type": "code",
   "execution_count": null,
   "id": "ZajBtOy6H2qx",
   "metadata": {
    "colab": {
     "base_uri": "https://localhost:8080/",
     "height": 0
    },
    "id": "ZajBtOy6H2qx",
    "outputId": "9dd02c49-e19c-4543-ebb6-b6992bcee879"
   },
   "outputs": [],
   "source": [
    "fig, ax = plt.subplots(figsize = (12, 8))\n",
    "job = train.Attrition.value_counts()\n",
    "ax.pie(job.values, labels = job.index,  shadow = True,\n",
    "       autopct = lambda pct: func(pct, job.values),\n",
    "       textprops = {'family':'sans-serif', 'fontsize':'x-large', 'fontstyle':'italic', 'fontweight':'heavy'})\n",
    "\n",
    "plt.show()"
   ]
  },
  {
   "cell_type": "code",
   "execution_count": null,
   "id": "a822183a",
   "metadata": {
    "colab": {
     "base_uri": "https://localhost:8080/",
     "height": 0
    },
    "id": "a822183a",
    "outputId": "482428e3-672e-43fb-dd51-244c93fb9499"
   },
   "outputs": [],
   "source": [
    "fig, ax = plt.subplots(figsize = (20,8))\n",
    "sns.kdeplot(train[\"Age\"], alpha=0.5,shade = True, color=\"red\", label=\"Age\")\n",
    "\n",
    "ax.legend()\n",
    "plt.show()"
   ]
  },
  {
   "cell_type": "code",
   "execution_count": null,
   "id": "671110c8",
   "metadata": {
    "colab": {
     "base_uri": "https://localhost:8080/"
    },
    "id": "671110c8",
    "outputId": "d14fa3af-926d-44d6-8888-b77a0f3e20aa"
   },
   "outputs": [],
   "source": [
    "train[\"Age\"].describe()"
   ]
  },
  {
   "cell_type": "code",
   "execution_count": null,
   "id": "bd2973f9",
   "metadata": {
    "colab": {
     "base_uri": "https://localhost:8080/"
    },
    "id": "bd2973f9",
    "outputId": "429b7c46-4f7a-4e60-fbb3-2d258b1ce23c"
   },
   "outputs": [],
   "source": [
    "train[\"Age\"].mode"
   ]
  },
  {
   "cell_type": "code",
   "execution_count": null,
   "id": "351f251f",
   "metadata": {
    "id": "351f251f"
   },
   "outputs": [],
   "source": [
    "train[\"Age\"].fillna( train[\"Age\"].mode()[0], inplace = True)"
   ]
  },
  {
   "cell_type": "code",
   "execution_count": null,
   "id": "4e896040",
   "metadata": {
    "colab": {
     "base_uri": "https://localhost:8080/"
    },
    "id": "4e896040",
    "outputId": "9d9770e0-ad1a-4e83-c5bb-1687c09ced7e"
   },
   "outputs": [],
   "source": [
    "train.info()"
   ]
  },
  {
   "cell_type": "code",
   "execution_count": null,
   "id": "9ffb96be",
   "metadata": {
    "colab": {
     "base_uri": "https://localhost:8080/",
     "height": 0
    },
    "id": "9ffb96be",
    "outputId": "cc2d2f2f-8a50-43a3-e5ef-46cd0d5ff0f8"
   },
   "outputs": [],
   "source": [
    "fig, ax = plt.subplots(figsize = (20,8))\n",
    "sns.kdeplot(train[\"Age\"], alpha=0.5,shade = True, color=\"red\", label=\"Age\")\n",
    "\n",
    "ax.legend()\n",
    "plt.show()"
   ]
  },
  {
   "cell_type": "code",
   "execution_count": null,
   "id": "cd05b8fc",
   "metadata": {
    "colab": {
     "base_uri": "https://localhost:8080/"
    },
    "id": "cd05b8fc",
    "outputId": "4b8496e3-61fb-4cb3-ea9b-8cc5fc2fda22"
   },
   "outputs": [],
   "source": [
    "train[\"BusinessTravel\"].value_counts()"
   ]
  },
  {
   "cell_type": "code",
   "execution_count": null,
   "id": "dae39753",
   "metadata": {
    "id": "dae39753"
   },
   "outputs": [],
   "source": [
    "fill_list = train[\"BusinessTravel\"].dropna().tolist()\n",
    "train[\"BusinessTravel\"] = train[\"BusinessTravel\"].fillna(pd.Series(np.random.choice(fill_list , size = len(train.index))))"
   ]
  },
  {
   "cell_type": "code",
   "execution_count": null,
   "id": "c17e6c71",
   "metadata": {
    "colab": {
     "base_uri": "https://localhost:8080/"
    },
    "id": "c17e6c71",
    "outputId": "0284fc9e-7636-4601-e7c4-09fc81b87aa0"
   },
   "outputs": [],
   "source": [
    "train[\"BusinessTravel\"].isnull().sum()"
   ]
  },
  {
   "cell_type": "code",
   "execution_count": null,
   "id": "ea1817a1",
   "metadata": {
    "colab": {
     "base_uri": "https://localhost:8080/"
    },
    "id": "ea1817a1",
    "outputId": "798902c0-92ae-4b3f-ade6-daff63378264"
   },
   "outputs": [],
   "source": [
    "train[\"BusinessTravel\"].value_counts()"
   ]
  },
  {
   "cell_type": "code",
   "execution_count": null,
   "id": "f7af61cc",
   "metadata": {
    "colab": {
     "base_uri": "https://localhost:8080/",
     "height": 0
    },
    "id": "f7af61cc",
    "outputId": "672cd3a6-89f7-436b-8600-58e039f33871"
   },
   "outputs": [],
   "source": [
    "fig, ax = plt.subplots(figsize = (20,8))\n",
    "sns.kdeplot(train[\"DailyRate\"], alpha=0.5,shade = True, color=\"red\", label=\"Age\")\n",
    "\n",
    "ax.legend()\n",
    "plt.show()"
   ]
  },
  {
   "cell_type": "code",
   "execution_count": null,
   "id": "70a31a24",
   "metadata": {
    "colab": {
     "base_uri": "https://localhost:8080/"
    },
    "id": "70a31a24",
    "outputId": "044061b7-716a-4915-9cdf-2c0c336d2066"
   },
   "outputs": [],
   "source": [
    "train[\"DailyRate\"].describe()"
   ]
  },
  {
   "cell_type": "code",
   "execution_count": null,
   "id": "24ca1326",
   "metadata": {
    "id": "24ca1326"
   },
   "outputs": [],
   "source": [
    "train[\"DailyRate\"].fillna( train[\"DailyRate\"].mean(), inplace = True)\n"
   ]
  },
  {
   "cell_type": "code",
   "execution_count": null,
   "id": "20293a70",
   "metadata": {
    "colab": {
     "base_uri": "https://localhost:8080/",
     "height": 0
    },
    "id": "20293a70",
    "outputId": "ed882135-cc25-44e9-df17-f0f7ff9c22f5"
   },
   "outputs": [],
   "source": [
    "fig, ax = plt.subplots(figsize = (20,8))\n",
    "sns.kdeplot(train[\"DailyRate\"], alpha=0.5,shade = True, color=\"red\", label=\"Age\")\n",
    "\n",
    "ax.legend()\n",
    "plt.show()"
   ]
  },
  {
   "cell_type": "code",
   "execution_count": null,
   "id": "9d2982c9",
   "metadata": {
    "colab": {
     "base_uri": "https://localhost:8080/",
     "height": 0
    },
    "id": "9d2982c9",
    "outputId": "46ae883b-2674-42c5-a3a6-30c769ec157d"
   },
   "outputs": [],
   "source": [
    "fig, ax = plt.subplots(figsize = (20,8))\n",
    "sns.kdeplot(train[\"DistanceFromHome\"], alpha=0.5,shade = True, color=\"red\", label=\"Age\")\n",
    "\n",
    "ax.legend()\n",
    "plt.show()"
   ]
  },
  {
   "cell_type": "code",
   "execution_count": null,
   "id": "c4b9d89a",
   "metadata": {
    "colab": {
     "base_uri": "https://localhost:8080/"
    },
    "id": "c4b9d89a",
    "outputId": "6e26fca8-c557-4f82-9c56-8c50992f4b00"
   },
   "outputs": [],
   "source": [
    "train[\"DistanceFromHome\"].describe()"
   ]
  },
  {
   "cell_type": "code",
   "execution_count": null,
   "id": "26bb5ecf",
   "metadata": {
    "id": "26bb5ecf"
   },
   "outputs": [],
   "source": [
    "train[\"DistanceFromHome\"].fillna( train[\"DistanceFromHome\"].mean(), inplace = True)\n"
   ]
  },
  {
   "cell_type": "code",
   "execution_count": null,
   "id": "b6e9fac8",
   "metadata": {
    "colab": {
     "base_uri": "https://localhost:8080/",
     "height": 0
    },
    "id": "b6e9fac8",
    "outputId": "cfae04f7-9714-46c9-8897-761707d2c625"
   },
   "outputs": [],
   "source": [
    "fig, ax = plt.subplots(figsize = (20,8))\n",
    "sns.kdeplot(train[\"DistanceFromHome\"], alpha=0.5,shade = True, color=\"red\", label=\"Age\")\n",
    "\n",
    "ax.legend()\n",
    "plt.show()"
   ]
  },
  {
   "cell_type": "code",
   "execution_count": null,
   "id": "fba46513",
   "metadata": {
    "colab": {
     "base_uri": "https://localhost:8080/"
    },
    "id": "fba46513",
    "outputId": "162b39e2-c387-48e1-c976-9f6490f15406"
   },
   "outputs": [],
   "source": [
    "train.info()"
   ]
  },
  {
   "cell_type": "code",
   "execution_count": null,
   "id": "f35cbe90",
   "metadata": {
    "colab": {
     "base_uri": "https://localhost:8080/"
    },
    "id": "f35cbe90",
    "outputId": "1bb5ee37-5c24-4d94-d4f2-e9010b2d530b"
   },
   "outputs": [],
   "source": [
    "train[\"MaritalStatus\"].value_counts()"
   ]
  },
  {
   "cell_type": "code",
   "execution_count": null,
   "id": "d3c6ea37",
   "metadata": {
    "id": "d3c6ea37"
   },
   "outputs": [],
   "source": [
    "fill_list = train[\"MaritalStatus\"].dropna().tolist()\n",
    "train[\"MaritalStatus\"] = train[\"MaritalStatus\"].fillna(pd.Series(np.random.choice(fill_list , size = len(train.index))))"
   ]
  },
  {
   "cell_type": "code",
   "execution_count": null,
   "id": "fc0be7a7",
   "metadata": {
    "colab": {
     "base_uri": "https://localhost:8080/"
    },
    "id": "fc0be7a7",
    "outputId": "89f28d8e-6981-4554-8397-d1fb051b9d4e"
   },
   "outputs": [],
   "source": [
    "train.isnull().sum()"
   ]
  },
  {
   "cell_type": "code",
   "execution_count": null,
   "id": "cb5a1162",
   "metadata": {
    "colab": {
     "base_uri": "https://localhost:8080/"
    },
    "id": "cb5a1162",
    "outputId": "848c63fc-35a6-48c1-a9e1-971995638a86"
   },
   "outputs": [],
   "source": [
    "train.info()"
   ]
  },
  {
   "cell_type": "code",
   "execution_count": null,
   "id": "vudcu5fJI19T",
   "metadata": {
    "colab": {
     "base_uri": "https://localhost:8080/",
     "height": 0
    },
    "id": "vudcu5fJI19T",
    "outputId": "a2cce213-10d2-4998-e6ca-87c2e9f68c18"
   },
   "outputs": [],
   "source": [
    "fig, ax = plt.subplots(figsize = (12, 8))\n",
    "job = train.Attrition.value_counts()\n",
    "ax.pie(job.values, labels = job.index,  shadow = True,\n",
    "       autopct = lambda pct: func(pct, job.values),\n",
    "       textprops = {'family':'sans-serif', 'fontsize':'x-large', 'fontstyle':'italic', 'fontweight':'heavy'})\n",
    "\n",
    "plt.show()"
   ]
  },
  {
   "cell_type": "markdown",
   "id": "083f0652",
   "metadata": {
    "id": "083f0652"
   },
   "source": [
    "## 1.3Encoding & preprocessing"
   ]
  },
  {
   "cell_type": "code",
   "execution_count": null,
   "id": "77a40b5d",
   "metadata": {
    "colab": {
     "base_uri": "https://localhost:8080/"
    },
    "id": "77a40b5d",
    "outputId": "a67b4979-a61d-42dd-e528-ce9f0ce38f63"
   },
   "outputs": [],
   "source": [
    "train.info()"
   ]
  },
  {
   "cell_type": "code",
   "execution_count": null,
   "id": "b36a00e1",
   "metadata": {
    "id": "b36a00e1"
   },
   "outputs": [],
   "source": []
  },
  {
   "cell_type": "code",
   "execution_count": null,
   "id": "4c9fa85b",
   "metadata": {
    "id": "4c9fa85b"
   },
   "outputs": [],
   "source": [
    "\n"
   ]
  },
  {
   "cell_type": "code",
   "execution_count": null,
   "id": "ce41cc5a",
   "metadata": {
    "colab": {
     "base_uri": "https://localhost:8080/",
     "height": 0
    },
    "id": "ce41cc5a",
    "outputId": "4042ef03-a251-46c1-bafd-afcbc179c4da"
   },
   "outputs": [],
   "source": [
    "train.head()"
   ]
  },
  {
   "cell_type": "code",
   "execution_count": null,
   "id": "6d545755",
   "metadata": {
    "id": "6d545755"
   },
   "outputs": [],
   "source": []
  },
  {
   "cell_type": "code",
   "execution_count": null,
   "id": "adf5ed93",
   "metadata": {
    "colab": {
     "base_uri": "https://localhost:8080/"
    },
    "id": "adf5ed93",
    "outputId": "f11357fe-bd21-4985-da53-6bf7f035c559"
   },
   "outputs": [],
   "source": [
    "train.columns"
   ]
  },
  {
   "cell_type": "code",
   "execution_count": null,
   "id": "2c7a89ff",
   "metadata": {
    "id": "2c7a89ff"
   },
   "outputs": [],
   "source": [
    "train=train[['Age', 'Attrition', 'BusinessTravel', 'DailyRate', 'Department',\n",
    "       'DistanceFromHome', 'Education', 'EducationField',\n",
    "        'EnvironmentSatisfaction', 'Gender', 'HourlyRate',\n",
    "       'JobInvolvement', 'JobLevel', 'JobRole', 'JobSatisfaction',\n",
    "       'MaritalStatus', 'MonthlyIncome', 'MonthlyRate', 'NumCompaniesWorked',\n",
    "        'OverTime', 'PercentSalaryHike', 'PerformanceRating',\n",
    "       'RelationshipSatisfaction', 'StockOptionLevel',\n",
    "       'TotalWorkingYears', 'TrainingTimesLastYear', 'WorkLifeBalance',\n",
    "       'YearsAtCompany', 'YearsInCurrentRole', 'YearsSinceLastPromotion',\n",
    "       'YearsWithCurrManager']]\n"
   ]
  },
  {
   "cell_type": "code",
   "execution_count": null,
   "id": "fcdb5a25",
   "metadata": {
    "colab": {
     "base_uri": "https://localhost:8080/",
     "height": 0
    },
    "id": "fcdb5a25",
    "outputId": "54a8ca83-0f02-410a-8e82-0bf55e5ed861"
   },
   "outputs": [],
   "source": [
    "for i in['Age', 'DailyRate',\n",
    "       'DistanceFromHome', 'HourlyRate',\n",
    "       'MonthlyIncome', 'MonthlyRate', 'NumCompaniesWorked',\n",
    "         'PercentSalaryHike', 'PerformanceRating',\n",
    "       'RelationshipSatisfaction', 'StockOptionLevel',\n",
    "       'TotalWorkingYears', 'TrainingTimesLastYear', 'WorkLifeBalance',\n",
    "       'YearsAtCompany', 'YearsInCurrentRole', 'YearsSinceLastPromotion',\n",
    "       'YearsWithCurrManager']:\n",
    "    fig, ax =plt.subplots(1,2, figsize=(12,8))\n",
    "    sns.boxplot(data=train, y=i, ax=ax[0], color='#7209b7')\n",
    "    plt.show()"
   ]
  },
  {
   "cell_type": "code",
   "execution_count": null,
   "id": "1d7a045b",
   "metadata": {
    "colab": {
     "base_uri": "https://localhost:8080/"
    },
    "id": "1d7a045b",
    "outputId": "2730c9a5-2985-4f81-f1ad-0e705932573b"
   },
   "outputs": [],
   "source": [
    "outlier_percentage = {}\n",
    "\n",
    "for feature in ['Age', 'DailyRate',\n",
    "       'DistanceFromHome', 'HourlyRate',\n",
    "       'MonthlyIncome', 'MonthlyRate', 'NumCompaniesWorked',\n",
    "         'PercentSalaryHike', 'PerformanceRating',\n",
    "       'RelationshipSatisfaction', 'StockOptionLevel',\n",
    "       'TotalWorkingYears', 'TrainingTimesLastYear', 'WorkLifeBalance',\n",
    "       'YearsAtCompany', 'YearsInCurrentRole', 'YearsSinceLastPromotion',\n",
    "       'YearsWithCurrManager']:\n",
    "    tempData = train.sort_values(by=feature)[feature]\n",
    "    Q1, Q3 = tempData.quantile([0.25, 0.75])\n",
    "    IQR = Q3 - Q1\n",
    "    Lower_range = Q1 - (1.5 * IQR)\n",
    "    Upper_range = Q3 + (1.5 * IQR)\n",
    "    outlier_percentage[feature] = round((((tempData<(Q1 - 1.5 * IQR)) | (tempData>(Q3 + 1.5 * IQR))).sum()/tempData.shape[0])*100,2)\n",
    "outlier_percentage"
   ]
  },
  {
   "cell_type": "code",
   "execution_count": null,
   "id": "91ff0632",
   "metadata": {
    "id": "91ff0632"
   },
   "outputs": [],
   "source": [
    "le = LabelEncoder()\n",
    "train['BusinessTravel'] = le.fit_transform(train['BusinessTravel'])\n",
    "train['Attrition'] = le.fit_transform(train['Attrition'])\n",
    "train['Department'] = le.fit_transform(train['Department'])\n",
    "train['EducationField'] = le.fit_transform(train['EducationField'])\n",
    "train['Gender'] = le.fit_transform(train['Gender'])\n",
    "train['JobRole'] = le.fit_transform(train['JobRole'])\n",
    "train['MaritalStatus'] = le.fit_transform(train['MaritalStatus'])\n",
    "\n",
    "train['OverTime'] = le.fit_transform(train['OverTime'])"
   ]
  },
  {
   "cell_type": "code",
   "execution_count": null,
   "id": "68c72b37",
   "metadata": {
    "colab": {
     "base_uri": "https://localhost:8080/",
     "height": 0
    },
    "id": "68c72b37",
    "outputId": "0837b584-445f-48a0-9f65-7c4335949eb0"
   },
   "outputs": [],
   "source": [
    "train.corr()"
   ]
  },
  {
   "cell_type": "code",
   "execution_count": null,
   "id": "c8bd2ff7",
   "metadata": {
    "colab": {
     "base_uri": "https://localhost:8080/"
    },
    "id": "c8bd2ff7",
    "outputId": "54503862-8c61-4687-eb39-ecd0149939e6"
   },
   "outputs": [],
   "source": [
    "train[\"DistanceFromHome\"].describe()"
   ]
  },
  {
   "cell_type": "code",
   "execution_count": null,
   "id": "ced0bf64",
   "metadata": {
    "colab": {
     "base_uri": "https://localhost:8080/"
    },
    "id": "ced0bf64",
    "outputId": "bd50429c-8b65-4da8-efe8-d4d6c63f38e2"
   },
   "outputs": [],
   "source": [
    "train[\"NumCompaniesWorked\"].describe()"
   ]
  },
  {
   "cell_type": "code",
   "execution_count": null,
   "id": "ed85a134",
   "metadata": {
    "id": "ed85a134"
   },
   "outputs": [],
   "source": [
    "train=train[train[\"NumCompaniesWorked\"]<8]"
   ]
  },
  {
   "cell_type": "markdown",
   "id": "7759c85d",
   "metadata": {
    "id": "7759c85d"
   },
   "source": [
    "## 1.4 Splitting, Scaling and upsampling the data"
   ]
  },
  {
   "cell_type": "code",
   "execution_count": null,
   "id": "44cef619",
   "metadata": {
    "id": "44cef619"
   },
   "outputs": [],
   "source": [
    "from sklearn.model_selection import train_test_split\n",
    "x=train.drop('Attrition',axis=1)\n",
    "y=train['Attrition']\n",
    "x_train, x_test, y_train, y_test = train_test_split(x,y,test_size=0.25,random_state=101)\n"
   ]
  },
  {
   "cell_type": "code",
   "execution_count": null,
   "id": "Ac0ZZcOSU8yS",
   "metadata": {
    "id": "Ac0ZZcOSU8yS"
   },
   "outputs": [],
   "source": [
    "from imblearn.over_sampling import RandomOverSampler,SMOTE\n",
    "rando=RandomOverSampler(random_state=42)\n",
    "x3,y3=rando.fit_resample(x,y )\n",
    "\n",
    "x3_train, x3_test, y3_train, y3_test = train_test_split(x3,y3,test_size=0.25,random_state=101)\n",
    "SMOTE=SMOTE(random_state=42)\n",
    "x4,y4=SMOTE.fit_resample(x,y )\n",
    "x4_train, x4_test, y4_train, y4_test = train_test_split(x4,y4,test_size=0.25,random_state=101)"
   ]
  },
  {
   "cell_type": "code",
   "execution_count": null,
   "id": "b4d4cbce",
   "metadata": {
    "id": "b4d4cbce"
   },
   "outputs": [],
   "source": [
    "from sklearn.preprocessing import MinMaxScaler\n",
    "scaler=MinMaxScaler()\n",
    "x_train=scaler.fit_transform(x_train)\n",
    "x_test=scaler.transform(x_test)\n",
    "x3_train=scaler.fit_transform(x3_train)\n",
    "x3_test=scaler.transform(x3_test)\n",
    "x4_train=scaler.fit_transform(x4_train)\n",
    "x4_test=scaler.transform(x4_test)"
   ]
  },
  {
   "cell_type": "markdown",
   "id": "742013f7",
   "metadata": {
    "id": "742013f7"
   },
   "source": [
    "## 1.5 Modeling and evaluation"
   ]
  },
  {
   "cell_type": "markdown",
   "id": "ea82b497",
   "metadata": {
    "id": "ea82b497"
   },
   "source": [
    "### 1.5.1 Logistic regression"
   ]
  },
  {
   "cell_type": "code",
   "execution_count": null,
   "id": "b375966c",
   "metadata": {
    "colab": {
     "base_uri": "https://localhost:8080/"
    },
    "id": "b375966c",
    "outputId": "10ac32dc-96b5-4d2f-81c6-9ae52924f50c"
   },
   "outputs": [],
   "source": [
    "from sklearn.linear_model import LogisticRegression\n",
    "classifier = LogisticRegression(random_state = 0)\n",
    "classifier.fit(x_train, y_train)"
   ]
  },
  {
   "cell_type": "code",
   "execution_count": null,
   "id": "d47af962",
   "metadata": {
    "colab": {
     "base_uri": "https://localhost:8080/"
    },
    "id": "d47af962",
    "outputId": "f8120eca-d875-45ab-a8fd-a884299eaf76"
   },
   "outputs": [],
   "source": [
    "from sklearn.metrics import confusion_matrix, accuracy_score\n",
    "y_pred = classifier.predict(x_test)\n",
    "cm = confusion_matrix(y_test, y_pred)\n",
    "print(cm)\n",
    "accuracy_score(y_test, y_pred)"
   ]
  },
  {
   "cell_type": "code",
   "execution_count": null,
   "id": "0392d915",
   "metadata": {
    "colab": {
     "base_uri": "https://localhost:8080/",
     "height": 206
    },
    "id": "0392d915",
    "outputId": "2c0f41ef-436e-4e24-b94e-29a630bbe8e4"
   },
   "outputs": [],
   "source": [
    "from sklearn.metrics import classification_report, confusion_matrix\n",
    "dataout = classification_report(y_test, y_pred, output_dict=True)\n",
    "dataout = pd.DataFrame(dataout).transpose()\n",
    "dataout"
   ]
  },
  {
   "cell_type": "code",
   "execution_count": null,
   "id": "VDRzGP1bVPlZ",
   "metadata": {
    "colab": {
     "base_uri": "https://localhost:8080/"
    },
    "id": "VDRzGP1bVPlZ",
    "outputId": "1247cf59-a859-4f6b-b235-3810808793a0"
   },
   "outputs": [],
   "source": [
    "classifier.fit(x3_train, y3_train)"
   ]
  },
  {
   "cell_type": "code",
   "execution_count": null,
   "id": "OmXqPhYLVP40",
   "metadata": {
    "colab": {
     "base_uri": "https://localhost:8080/"
    },
    "id": "OmXqPhYLVP40",
    "outputId": "cc7ec566-21fb-4cab-c685-be42a26a8ad5"
   },
   "outputs": [],
   "source": [
    "y_pred = classifier.predict(x3_test)\n",
    "cm = confusion_matrix(y3_test, y_pred)\n",
    "print(cm)\n",
    "accuracy_score(y3_test, y_pred)"
   ]
  },
  {
   "cell_type": "code",
   "execution_count": null,
   "id": "Nw2F-r2iVQEa",
   "metadata": {
    "colab": {
     "base_uri": "https://localhost:8080/",
     "height": 206
    },
    "id": "Nw2F-r2iVQEa",
    "outputId": "b5256fec-a334-4e6b-ede0-df68d6cc3ab1"
   },
   "outputs": [],
   "source": [
    "dataout = classification_report(y3_test, y_pred, output_dict=True)\n",
    "dataout = pd.DataFrame(dataout).transpose()\n",
    "dataout"
   ]
  },
  {
   "cell_type": "code",
   "execution_count": null,
   "id": "YfOVHflgVQRx",
   "metadata": {
    "colab": {
     "base_uri": "https://localhost:8080/"
    },
    "id": "YfOVHflgVQRx",
    "outputId": "dbe9ddbd-150a-4696-8f95-88ab48ba21ee"
   },
   "outputs": [],
   "source": [
    "classifier.fit(x4_train, y4_train)"
   ]
  },
  {
   "cell_type": "code",
   "execution_count": null,
   "id": "jXwHajkzVQXp",
   "metadata": {
    "colab": {
     "base_uri": "https://localhost:8080/"
    },
    "id": "jXwHajkzVQXp",
    "outputId": "01db1172-b1f7-4459-aa54-dc5b14fb48e6"
   },
   "outputs": [],
   "source": [
    "y_pred = classifier.predict(x4_test)\n",
    "cm = confusion_matrix(y4_test, y_pred)\n",
    "print(cm)\n",
    "accuracy_score(y4_test, y_pred)"
   ]
  },
  {
   "cell_type": "code",
   "execution_count": null,
   "id": "rondx58qVQci",
   "metadata": {
    "colab": {
     "base_uri": "https://localhost:8080/",
     "height": 206
    },
    "id": "rondx58qVQci",
    "outputId": "bf532825-cb53-460d-c240-2cdf2082c201"
   },
   "outputs": [],
   "source": [
    "dataout = classification_report(y4_test, y_pred, output_dict=True)\n",
    "dataout = pd.DataFrame(dataout).transpose()\n",
    "dataout"
   ]
  },
  {
   "cell_type": "markdown",
   "id": "b74e2e36",
   "metadata": {
    "id": "b74e2e36"
   },
   "source": [
    "### 1.5.2 KNN"
   ]
  },
  {
   "cell_type": "code",
   "execution_count": null,
   "id": "5b550e8e",
   "metadata": {
    "colab": {
     "base_uri": "https://localhost:8080/"
    },
    "id": "5b550e8e",
    "outputId": "1accb36b-666e-4b06-b807-0c6fd26e383f"
   },
   "outputs": [],
   "source": [
    "from sklearn.neighbors import KNeighborsClassifier\n",
    "classifier = KNeighborsClassifier(n_neighbors = 5, metric = 'minkowski', p = 2)\n",
    "classifier.fit(x_train, y_train)"
   ]
  },
  {
   "cell_type": "code",
   "execution_count": null,
   "id": "8ff06575",
   "metadata": {
    "colab": {
     "base_uri": "https://localhost:8080/"
    },
    "id": "8ff06575",
    "outputId": "8a2012bd-20e5-4cef-886c-3feed35530aa"
   },
   "outputs": [],
   "source": [
    "y_pred = classifier.predict(x_test)\n",
    "cm = confusion_matrix(y_test, y_pred)\n",
    "print(cm)\n",
    "accuracy_score(y_test, y_pred)"
   ]
  },
  {
   "cell_type": "code",
   "execution_count": null,
   "id": "81cddd8e",
   "metadata": {
    "colab": {
     "base_uri": "https://localhost:8080/",
     "height": 206
    },
    "id": "81cddd8e",
    "outputId": "cd79331a-367d-4c46-df49-e39f93bf3d81"
   },
   "outputs": [],
   "source": [
    "from sklearn.metrics import classification_report, confusion_matrix\n",
    "dataout = classification_report(y_test, y_pred, output_dict=True)\n",
    "dataout = pd.DataFrame(dataout).transpose()\n",
    "dataout"
   ]
  },
  {
   "cell_type": "code",
   "execution_count": null,
   "id": "4OcgkFsxVgGj",
   "metadata": {
    "colab": {
     "base_uri": "https://localhost:8080/"
    },
    "id": "4OcgkFsxVgGj",
    "outputId": "9b31a7ff-5996-4c95-9972-faabf52b3d04"
   },
   "outputs": [],
   "source": [
    "classifier.fit(x3_train, y3_train)"
   ]
  },
  {
   "cell_type": "code",
   "execution_count": null,
   "id": "q3M1ong9VgKO",
   "metadata": {
    "colab": {
     "base_uri": "https://localhost:8080/"
    },
    "id": "q3M1ong9VgKO",
    "outputId": "1f58ceda-5522-4004-d13a-526a5b571a29"
   },
   "outputs": [],
   "source": [
    "y_pred = classifier.predict(x3_test)\n",
    "cm = confusion_matrix(y3_test, y_pred)\n",
    "print(cm)\n",
    "accuracy_score(y3_test, y_pred)"
   ]
  },
  {
   "cell_type": "code",
   "execution_count": null,
   "id": "AoMnKQKhVgNo",
   "metadata": {
    "colab": {
     "base_uri": "https://localhost:8080/",
     "height": 206
    },
    "id": "AoMnKQKhVgNo",
    "outputId": "f83ac230-031d-4371-b26a-2036b385cf27"
   },
   "outputs": [],
   "source": [
    "dataout = classification_report(y3_test, y_pred, output_dict=True)\n",
    "dataout = pd.DataFrame(dataout).transpose()\n",
    "dataout"
   ]
  },
  {
   "cell_type": "code",
   "execution_count": null,
   "id": "r6JOtPKFVgZy",
   "metadata": {
    "colab": {
     "base_uri": "https://localhost:8080/"
    },
    "id": "r6JOtPKFVgZy",
    "outputId": "276d6374-fca4-408e-8825-4f87f788e67d"
   },
   "outputs": [],
   "source": [
    "classifier.fit(x4_train, y4_train)"
   ]
  },
  {
   "cell_type": "code",
   "execution_count": null,
   "id": "OxODw-jcVgdH",
   "metadata": {
    "colab": {
     "base_uri": "https://localhost:8080/"
    },
    "id": "OxODw-jcVgdH",
    "outputId": "71c2731c-5583-4d5a-d3ae-dd13a1201f92"
   },
   "outputs": [],
   "source": [
    "y_pred = classifier.predict(x4_test)\n",
    "cm = confusion_matrix(y4_test, y_pred)\n",
    "print(cm)\n",
    "accuracy_score(y4_test, y_pred)"
   ]
  },
  {
   "cell_type": "code",
   "execution_count": null,
   "id": "A62wYZp_Vggs",
   "metadata": {
    "colab": {
     "base_uri": "https://localhost:8080/",
     "height": 206
    },
    "id": "A62wYZp_Vggs",
    "outputId": "bad33743-857f-43f7-d879-bfb8fc49ebe3"
   },
   "outputs": [],
   "source": [
    "dataout = classification_report(y4_test, y_pred, output_dict=True)\n",
    "dataout = pd.DataFrame(dataout).transpose()\n",
    "dataout"
   ]
  },
  {
   "cell_type": "markdown",
   "id": "12a76e02",
   "metadata": {
    "id": "12a76e02"
   },
   "source": [
    "### 1.5.3 Decision Tree"
   ]
  },
  {
   "cell_type": "code",
   "execution_count": null,
   "id": "b7f18431",
   "metadata": {
    "colab": {
     "base_uri": "https://localhost:8080/"
    },
    "id": "b7f18431",
    "outputId": "61e562fb-e024-46b8-ef28-7e42729ec966"
   },
   "outputs": [],
   "source": [
    "from sklearn.tree import DecisionTreeClassifier\n",
    "classifier = DecisionTreeClassifier(criterion = 'entropy', random_state = 0)\n",
    "classifier.fit(x_train, y_train)"
   ]
  },
  {
   "cell_type": "code",
   "execution_count": null,
   "id": "c6eb5554",
   "metadata": {
    "colab": {
     "base_uri": "https://localhost:8080/"
    },
    "id": "c6eb5554",
    "outputId": "cfbd6c2a-2c28-4daa-e920-a5c532e5ca95"
   },
   "outputs": [],
   "source": [
    "y_pred = classifier.predict(x_test)\n",
    "cm = confusion_matrix(y_test, y_pred)\n",
    "print(cm)\n",
    "accuracy_score(y_test, y_pred)"
   ]
  },
  {
   "cell_type": "code",
   "execution_count": null,
   "id": "13bd9c61",
   "metadata": {
    "colab": {
     "base_uri": "https://localhost:8080/",
     "height": 206
    },
    "id": "13bd9c61",
    "outputId": "d6959f38-4d48-40e0-c65a-cc712822218c"
   },
   "outputs": [],
   "source": [
    "from sklearn.metrics import classification_report, confusion_matrix\n",
    "dataout = classification_report(y_test, y_pred, output_dict=True)\n",
    "dataout = pd.DataFrame(dataout).transpose()\n",
    "dataout"
   ]
  },
  {
   "cell_type": "code",
   "execution_count": null,
   "id": "xsSWK9_sVr3b",
   "metadata": {
    "colab": {
     "base_uri": "https://localhost:8080/"
    },
    "id": "xsSWK9_sVr3b",
    "outputId": "8023141e-85c3-4410-f9c4-37cb32f3acc3"
   },
   "outputs": [],
   "source": [
    "classifier.fit(x3_train, y3_train)"
   ]
  },
  {
   "cell_type": "code",
   "execution_count": null,
   "id": "53ulz4J6Vr7o",
   "metadata": {
    "colab": {
     "base_uri": "https://localhost:8080/"
    },
    "id": "53ulz4J6Vr7o",
    "outputId": "20a10b3d-aaa9-4e2a-81d0-8a9c4c8953c6"
   },
   "outputs": [],
   "source": [
    "y_pred = classifier.predict(x3_test)\n",
    "cm = confusion_matrix(y3_test, y_pred)\n",
    "print(cm)\n",
    "accuracy_score(y3_test, y_pred)"
   ]
  },
  {
   "cell_type": "code",
   "execution_count": null,
   "id": "FYUGVGSWVr_H",
   "metadata": {
    "colab": {
     "base_uri": "https://localhost:8080/",
     "height": 206
    },
    "id": "FYUGVGSWVr_H",
    "outputId": "6a90e303-c2fc-4382-94d2-f13bf69682fe"
   },
   "outputs": [],
   "source": [
    "dataout = classification_report(y3_test, y_pred, output_dict=True)\n",
    "dataout = pd.DataFrame(dataout).transpose()\n",
    "dataout"
   ]
  },
  {
   "cell_type": "code",
   "execution_count": null,
   "id": "0K7D3iTpVsRg",
   "metadata": {
    "colab": {
     "base_uri": "https://localhost:8080/"
    },
    "id": "0K7D3iTpVsRg",
    "outputId": "0b8cb3d5-b139-46a7-c5e2-885e64d70c95"
   },
   "outputs": [],
   "source": [
    "classifier.fit(x4_train, y4_train)"
   ]
  },
  {
   "cell_type": "code",
   "execution_count": null,
   "id": "AAQRdW2VVsVt",
   "metadata": {
    "colab": {
     "base_uri": "https://localhost:8080/"
    },
    "id": "AAQRdW2VVsVt",
    "outputId": "268a4022-b786-4bec-b7f0-d12161ace7ea"
   },
   "outputs": [],
   "source": [
    "y_pred = classifier.predict(x4_test)\n",
    "cm = confusion_matrix(y4_test, y_pred)\n",
    "print(cm)\n",
    "accuracy_score(y4_test, y_pred)"
   ]
  },
  {
   "cell_type": "code",
   "execution_count": null,
   "id": "Ot_g7V9DVsZS",
   "metadata": {
    "colab": {
     "base_uri": "https://localhost:8080/",
     "height": 206
    },
    "id": "Ot_g7V9DVsZS",
    "outputId": "07ca8fcb-82ae-4c61-ebf0-2af34ecb6fd6"
   },
   "outputs": [],
   "source": [
    "dataout = classification_report(y4_test, y_pred, output_dict=True)\n",
    "dataout = pd.DataFrame(dataout).transpose()\n",
    "dataout"
   ]
  },
  {
   "cell_type": "markdown",
   "id": "pNJezSL3Gnh3",
   "metadata": {
    "id": "pNJezSL3Gnh3"
   },
   "source": [
    "### 1.5.4 Random forest"
   ]
  },
  {
   "cell_type": "code",
   "execution_count": null,
   "id": "c1debefa",
   "metadata": {
    "colab": {
     "base_uri": "https://localhost:8080/"
    },
    "id": "c1debefa",
    "outputId": "c840c45c-96dc-4c6d-9f93-b320f7c0a2f8"
   },
   "outputs": [],
   "source": [
    "from sklearn.ensemble import RandomForestClassifier\n",
    "classifier = RandomForestClassifier(n_estimators = 10, criterion = 'entropy', random_state = 0)\n",
    "classifier.fit(x_train, y_train)"
   ]
  },
  {
   "cell_type": "code",
   "execution_count": null,
   "id": "AzvyeiFlGzbA",
   "metadata": {
    "colab": {
     "base_uri": "https://localhost:8080/"
    },
    "id": "AzvyeiFlGzbA",
    "outputId": "8b9997f1-396e-450c-95da-e5306ee8e0ad"
   },
   "outputs": [],
   "source": [
    "y_pred = classifier.predict(x_test)\n",
    "cm = confusion_matrix(y_test, y_pred)\n",
    "print(cm)\n",
    "accuracy_score(y_test, y_pred)"
   ]
  },
  {
   "cell_type": "code",
   "execution_count": null,
   "id": "ZVFdmew4G3ij",
   "metadata": {
    "colab": {
     "base_uri": "https://localhost:8080/",
     "height": 206
    },
    "id": "ZVFdmew4G3ij",
    "outputId": "c59ea489-0641-41c0-a9e9-b84b8d5f5686"
   },
   "outputs": [],
   "source": [
    "from sklearn.metrics import classification_report, confusion_matrix\n",
    "dataout = classification_report(y_test, y_pred, output_dict=True)\n",
    "dataout = pd.DataFrame(dataout).transpose()\n",
    "dataout"
   ]
  },
  {
   "cell_type": "code",
   "execution_count": null,
   "id": "6236d555",
   "metadata": {
    "colab": {
     "base_uri": "https://localhost:8080/"
    },
    "id": "6236d555",
    "outputId": "6b6e0ff1-86a7-4ee8-b9a0-1081c609a91b"
   },
   "outputs": [],
   "source": [
    "classifier.fit(x3_train, y3_train)"
   ]
  },
  {
   "cell_type": "code",
   "execution_count": null,
   "id": "83c54584",
   "metadata": {
    "colab": {
     "base_uri": "https://localhost:8080/"
    },
    "id": "83c54584",
    "outputId": "9d86c153-cb41-43ec-8d8f-1059565eb86d"
   },
   "outputs": [],
   "source": [
    "y_pred = classifier.predict(x3_test)\n",
    "cm = confusion_matrix(y3_test, y_pred)\n",
    "print(cm)\n",
    "accuracy_score(y3_test, y_pred)"
   ]
  },
  {
   "cell_type": "code",
   "execution_count": null,
   "id": "d5abdcae",
   "metadata": {
    "colab": {
     "base_uri": "https://localhost:8080/",
     "height": 206
    },
    "id": "d5abdcae",
    "outputId": "63f2f079-d9ef-4d17-c1ee-8738081a45ee"
   },
   "outputs": [],
   "source": [
    "dataout = classification_report(y3_test, y_pred, output_dict=True)\n",
    "dataout = pd.DataFrame(dataout).transpose()\n",
    "dataout"
   ]
  },
  {
   "cell_type": "code",
   "execution_count": null,
   "id": "896b3d5d",
   "metadata": {
    "colab": {
     "base_uri": "https://localhost:8080/"
    },
    "id": "896b3d5d",
    "outputId": "0bc10a13-a26f-4723-cf1f-50ec14e02048"
   },
   "outputs": [],
   "source": [
    "classifier.fit(x4_train, y4_train)"
   ]
  },
  {
   "cell_type": "code",
   "execution_count": null,
   "id": "cc517fed",
   "metadata": {
    "colab": {
     "base_uri": "https://localhost:8080/"
    },
    "id": "cc517fed",
    "outputId": "ae63e62f-3c58-42da-fd44-519bc3a13fa3"
   },
   "outputs": [],
   "source": [
    "y_pred = classifier.predict(x4_test)\n",
    "cm = confusion_matrix(y4_test, y_pred)\n",
    "print(cm)\n",
    "accuracy_score(y4_test, y_pred)"
   ]
  },
  {
   "cell_type": "code",
   "execution_count": null,
   "id": "f985bf86",
   "metadata": {
    "colab": {
     "base_uri": "https://localhost:8080/",
     "height": 206
    },
    "id": "f985bf86",
    "outputId": "6d658288-edbd-45df-db94-e408ec495980"
   },
   "outputs": [],
   "source": [
    "dataout = classification_report(y4_test, y_pred, output_dict=True)\n",
    "dataout = pd.DataFrame(dataout).transpose()\n",
    "dataout"
   ]
  },
  {
   "cell_type": "code",
   "execution_count": null,
   "id": "86bbcfc0",
   "metadata": {
    "id": "86bbcfc0"
   },
   "outputs": [],
   "source": []
  },
  {
   "cell_type": "code",
   "execution_count": null,
   "id": "776c12fd",
   "metadata": {
    "id": "776c12fd"
   },
   "outputs": [],
   "source": []
  },
  {
   "cell_type": "code",
   "execution_count": null,
   "id": "0532d510",
   "metadata": {
    "id": "0532d510"
   },
   "outputs": [],
   "source": []
  },
  {
   "cell_type": "code",
   "execution_count": null,
   "id": "8ebbf51d",
   "metadata": {
    "id": "8ebbf51d"
   },
   "outputs": [],
   "source": []
  },
  {
   "cell_type": "code",
   "execution_count": null,
   "id": "8a1df5e0",
   "metadata": {
    "id": "8a1df5e0"
   },
   "outputs": [],
   "source": []
  },
  {
   "cell_type": "code",
   "execution_count": null,
   "id": "0bee4127",
   "metadata": {
    "id": "0bee4127"
   },
   "outputs": [],
   "source": []
  }
 ],
 "metadata": {
  "colab": {
   "provenance": []
  },
  "kernelspec": {
   "display_name": "Python 3 (ipykernel)",
   "language": "python",
   "name": "python3"
  },
  "language_info": {
   "codemirror_mode": {
    "name": "ipython",
    "version": 3
   },
   "file_extension": ".py",
   "mimetype": "text/x-python",
   "name": "python",
   "nbconvert_exporter": "python",
   "pygments_lexer": "ipython3",
   "version": "3.9.12"
  }
 },
 "nbformat": 4,
 "nbformat_minor": 5
}
